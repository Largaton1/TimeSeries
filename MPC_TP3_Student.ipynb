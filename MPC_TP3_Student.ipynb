{
 "cells": [
  {
   "cell_type": "markdown",
   "metadata": {},
   "source": [
    "# Prediction of time series with a seasonal component"
   ]
  },
  {
   "cell_type": "raw",
   "metadata": {},
   "source": [
    "In this TP, you will work with a time series with a seasonal component and a trend.\n",
    "You will apply the following techniques : \n",
    " - Triple Exponential Smoothing\n",
    " - Classical AutoRegressive models (that can also deal with a seasonal component)\n",
    " - AutoRegressive models with a seasonal component"
   ]
  },
  {
   "cell_type": "code",
   "execution_count": 1,
   "metadata": {},
   "outputs": [],
   "source": [
    "import pandas as pd\n",
    "import numpy as np\n",
    "import matplotlib.pyplot as plt\n",
    "%matplotlib inline\n",
    "from statsmodels.graphics.tsaplots import plot_acf\n",
    "from statsmodels.tsa.ar_model import AutoReg\n",
    "from statsmodels.tsa.api import ExponentialSmoothing"
   ]
  },
  {
   "cell_type": "code",
   "execution_count": 2,
   "metadata": {},
   "outputs": [
    {
     "data": {
      "text/html": [
       "<div>\n",
       "<style scoped>\n",
       "    .dataframe tbody tr th:only-of-type {\n",
       "        vertical-align: middle;\n",
       "    }\n",
       "\n",
       "    .dataframe tbody tr th {\n",
       "        vertical-align: top;\n",
       "    }\n",
       "\n",
       "    .dataframe thead th {\n",
       "        text-align: right;\n",
       "    }\n",
       "</style>\n",
       "<table border=\"1\" class=\"dataframe\">\n",
       "  <thead>\n",
       "    <tr style=\"text-align: right;\">\n",
       "      <th></th>\n",
       "      <th>CO2</th>\n",
       "    </tr>\n",
       "  </thead>\n",
       "  <tbody>\n",
       "    <tr>\n",
       "      <th>1995-01-31</th>\n",
       "      <td>315.42</td>\n",
       "    </tr>\n",
       "    <tr>\n",
       "      <th>1995-02-28</th>\n",
       "      <td>316.31</td>\n",
       "    </tr>\n",
       "    <tr>\n",
       "      <th>1995-03-31</th>\n",
       "      <td>316.50</td>\n",
       "    </tr>\n",
       "    <tr>\n",
       "      <th>1995-04-30</th>\n",
       "      <td>317.56</td>\n",
       "    </tr>\n",
       "    <tr>\n",
       "      <th>1995-05-31</th>\n",
       "      <td>318.13</td>\n",
       "    </tr>\n",
       "    <tr>\n",
       "      <th>...</th>\n",
       "      <td>...</td>\n",
       "    </tr>\n",
       "    <tr>\n",
       "      <th>2019-08-31</th>\n",
       "      <td>342.21</td>\n",
       "    </tr>\n",
       "    <tr>\n",
       "      <th>2019-09-30</th>\n",
       "      <td>339.69</td>\n",
       "    </tr>\n",
       "    <tr>\n",
       "      <th>2019-10-31</th>\n",
       "      <td>339.82</td>\n",
       "    </tr>\n",
       "    <tr>\n",
       "      <th>2019-11-30</th>\n",
       "      <td>340.98</td>\n",
       "    </tr>\n",
       "    <tr>\n",
       "      <th>2019-12-31</th>\n",
       "      <td>342.82</td>\n",
       "    </tr>\n",
       "  </tbody>\n",
       "</table>\n",
       "<p>300 rows × 1 columns</p>\n",
       "</div>"
      ],
      "text/plain": [
       "               CO2\n",
       "1995-01-31  315.42\n",
       "1995-02-28  316.31\n",
       "1995-03-31  316.50\n",
       "1995-04-30  317.56\n",
       "1995-05-31  318.13\n",
       "...            ...\n",
       "2019-08-31  342.21\n",
       "2019-09-30  339.69\n",
       "2019-10-31  339.82\n",
       "2019-11-30  340.98\n",
       "2019-12-31  342.82\n",
       "\n",
       "[300 rows x 1 columns]"
      ]
     },
     "execution_count": 2,
     "metadata": {},
     "output_type": "execute_result"
    }
   ],
   "source": [
    "# Load the data\n",
    "co2 = pd.read_csv('./CO2_data.csv', index_col=0)\n",
    "co2.index = pd.to_datetime(co2.index)\n",
    "co2"
   ]
  },
  {
   "cell_type": "raw",
   "metadata": {},
   "source": [
    "Question : Plot this time series. You should see that there is a seasonal component.\n",
    "Do you think that there is also a trend ?\n",
    "Does the seasonal component seems to follow an additive or multiplicative model ?"
   ]
  },
  {
   "cell_type": "code",
   "execution_count": null,
   "metadata": {},
   "outputs": [],
   "source": []
  },
  {
   "cell_type": "raw",
   "metadata": {},
   "source": [
    "Question : Look at the autocorrelation function of this time series to confirm that there is a seasonal component. What is the length of the seasonal component ? Does it say that there is a trend too ?"
   ]
  },
  {
   "cell_type": "code",
   "execution_count": null,
   "metadata": {},
   "outputs": [],
   "source": []
  },
  {
   "cell_type": "raw",
   "metadata": {},
   "source": [
    "Question : Split this time series into a training and a validation set, so that the validation set is composed of\n",
    "the last 48 points of the time series co2"
   ]
  },
  {
   "cell_type": "code",
   "execution_count": null,
   "metadata": {},
   "outputs": [],
   "source": []
  },
  {
   "cell_type": "raw",
   "metadata": {},
   "source": [
    "Question : Plot the training and validation set with a different color"
   ]
  },
  {
   "cell_type": "code",
   "execution_count": null,
   "metadata": {},
   "outputs": [],
   "source": []
  },
  {
   "cell_type": "code",
   "execution_count": 99,
   "metadata": {},
   "outputs": [
    {
     "data": {
      "text/html": [
       "<table class=\"simpletable\">\n",
       "<caption>ExponentialSmoothing Model Results</caption>\n",
       "<tr>\n",
       "  <th>Dep. Variable:</th>             <td>CO2</td>         <th>  No. Observations:  </th>        <td>252</td>      \n",
       "</tr>\n",
       "<tr>\n",
       "  <th>Model:</th>            <td>ExponentialSmoothing</td> <th>  SSE                </th>      <td>17.616</td>     \n",
       "</tr>\n",
       "<tr>\n",
       "  <th>Optimized:</th>                <td>True</td>         <th>  AIC                </th>     <td>-638.477</td>    \n",
       "</tr>\n",
       "<tr>\n",
       "  <th>Trend:</th>                  <td>Additive</td>       <th>  BIC                </th>     <td>-582.007</td>    \n",
       "</tr>\n",
       "<tr>\n",
       "  <th>Seasonal:</th>               <td>Additive</td>       <th>  AICC               </th>     <td>-635.542</td>    \n",
       "</tr>\n",
       "<tr>\n",
       "  <th>Seasonal Periods:</th>          <td>12</td>          <th>  Date:              </th> <td>Sun, 14 Feb 2021</td>\n",
       "</tr>\n",
       "<tr>\n",
       "  <th>Box-Cox:</th>                  <td>False</td>        <th>  Time:              </th>     <td>09:43:44</td>    \n",
       "</tr>\n",
       "<tr>\n",
       "  <th>Box-Cox Coeff.:</th>           <td>None</td>         <th>                     </th>         <td> </td>       \n",
       "</tr>\n",
       "</table>\n",
       "<table class=\"simpletable\">\n",
       "<tr>\n",
       "           <td></td>                  <th>coeff</th>                <th>code</th>               <th>optimized</th>     \n",
       "</tr>\n",
       "<tr>\n",
       "  <th>smoothing_level</th>    <td>           0.6505998</td> <td>               alpha</td> <td>                True</td>\n",
       "</tr>\n",
       "<tr>\n",
       "  <th>smoothing_trend</th>    <td>            0.000000</td> <td>                beta</td> <td>                True</td>\n",
       "</tr>\n",
       "<tr>\n",
       "  <th>smoothing_seasonal</th> <td>          1.1469e-16</td> <td>               gamma</td> <td>                True</td>\n",
       "</tr>\n",
       "<tr>\n",
       "  <th>initial_level</th>      <td>           315.41662</td> <td>                 l.0</td> <td>                True</td>\n",
       "</tr>\n",
       "<tr>\n",
       "  <th>initial_trend</th>      <td>           0.0872511</td> <td>                 b.0</td> <td>                True</td>\n",
       "</tr>\n",
       "<tr>\n",
       "  <th>initial_seasons.0</th>  <td>          -0.0975968</td> <td>                 s.0</td> <td>                True</td>\n",
       "</tr>\n",
       "<tr>\n",
       "  <th>initial_seasons.1</th>  <td>           0.5299152</td> <td>                 s.1</td> <td>                True</td>\n",
       "</tr>\n",
       "<tr>\n",
       "  <th>initial_seasons.2</th>  <td>           1.2202833</td> <td>                 s.2</td> <td>                True</td>\n",
       "</tr>\n",
       "<tr>\n",
       "  <th>initial_seasons.3</th>  <td>           2.2992259</td> <td>                 s.3</td> <td>                True</td>\n",
       "</tr>\n",
       "<tr>\n",
       "  <th>initial_seasons.4</th>  <td>           2.7914979</td> <td>                 s.4</td> <td>                True</td>\n",
       "</tr>\n",
       "<tr>\n",
       "  <th>initial_seasons.5</th>  <td>           2.2309165</td> <td>                 s.5</td> <td>                True</td>\n",
       "</tr>\n",
       "<tr>\n",
       "  <th>initial_seasons.6</th>  <td>           0.8546159</td> <td>                 s.6</td> <td>                True</td>\n",
       "</tr>\n",
       "<tr>\n",
       "  <th>initial_seasons.7</th>  <td>          -1.1469178</td> <td>                 s.7</td> <td>                True</td>\n",
       "</tr>\n",
       "<tr>\n",
       "  <th>initial_seasons.8</th>  <td>          -2.8522619</td> <td>                 s.8</td> <td>                True</td>\n",
       "</tr>\n",
       "<tr>\n",
       "  <th>initial_seasons.9</th>  <td>          -3.1371350</td> <td>                 s.9</td> <td>                True</td>\n",
       "</tr>\n",
       "<tr>\n",
       "  <th>initial_seasons.10</th> <td>          -2.0158123</td> <td>                s.10</td> <td>                True</td>\n",
       "</tr>\n",
       "<tr>\n",
       "  <th>initial_seasons.11</th> <td>          -0.9792546</td> <td>                s.11</td> <td>                True</td>\n",
       "</tr>\n",
       "</table>"
      ],
      "text/plain": [
       "<class 'statsmodels.iolib.summary.Summary'>\n",
       "\"\"\"\n",
       "                       ExponentialSmoothing Model Results                       \n",
       "================================================================================\n",
       "Dep. Variable:                      CO2   No. Observations:                  252\n",
       "Model:             ExponentialSmoothing   SSE                             17.616\n",
       "Optimized:                         True   AIC                           -638.477\n",
       "Trend:                         Additive   BIC                           -582.007\n",
       "Seasonal:                      Additive   AICC                          -635.542\n",
       "Seasonal Periods:                    12   Date:                 Sun, 14 Feb 2021\n",
       "Box-Cox:                          False   Time:                         09:43:44\n",
       "Box-Cox Coeff.:                    None                                         \n",
       "=================================================================================\n",
       "                          coeff                 code              optimized      \n",
       "---------------------------------------------------------------------------------\n",
       "smoothing_level               0.6505998                alpha                 True\n",
       "smoothing_trend                0.000000                 beta                 True\n",
       "smoothing_seasonal           1.1469e-16                gamma                 True\n",
       "initial_level                 315.41662                  l.0                 True\n",
       "initial_trend                 0.0872511                  b.0                 True\n",
       "initial_seasons.0            -0.0975968                  s.0                 True\n",
       "initial_seasons.1             0.5299152                  s.1                 True\n",
       "initial_seasons.2             1.2202833                  s.2                 True\n",
       "initial_seasons.3             2.2992259                  s.3                 True\n",
       "initial_seasons.4             2.7914979                  s.4                 True\n",
       "initial_seasons.5             2.2309165                  s.5                 True\n",
       "initial_seasons.6             0.8546159                  s.6                 True\n",
       "initial_seasons.7            -1.1469178                  s.7                 True\n",
       "initial_seasons.8            -2.8522619                  s.8                 True\n",
       "initial_seasons.9            -3.1371350                  s.9                 True\n",
       "initial_seasons.10           -2.0158123                 s.10                 True\n",
       "initial_seasons.11           -0.9792546                 s.11                 True\n",
       "---------------------------------------------------------------------------------\n",
       "\"\"\""
      ]
     },
     "execution_count": 99,
     "metadata": {},
     "output_type": "execute_result"
    }
   ],
   "source": [
    "# We will now apply the Triple Exponential Smoothing algorithm to the training data (additive model first)\n",
    "# As you can see below, we need to indicate the length of the period in 'seasonal_periods', and \n",
    "# we specify sesaonal = 'add' for an additive model (trend will always be 'add' for us)\n",
    "tes_model = ExponentialSmoothing(co2_train, initialization_method='estimated',seasonal_periods=12, trend = 'add', seasonal = 'add').fit()\n",
    "tes_model.summary()"
   ]
  },
  {
   "cell_type": "raw",
   "metadata": {},
   "source": [
    "You should see in the results above the values of the 3 parameters of the TES algo : smoothing_level (alpha in the slides), smoothing_trend (beta in the slides), smoothing_season (gamma in the slides) and the values of the initialization for the level (a) , trend (b) and the 12 seasonal coefficients (all these parameters have been chosen by the TES algo so that it minimizes the prediction error for intermediate predictions)"
   ]
  },
  {
   "cell_type": "code",
   "execution_count": 100,
   "metadata": {},
   "outputs": [
    {
     "data": {
      "text/plain": [
       "1995-01-31    315.512802\n",
       "1995-02-28    315.717182\n",
       "1995-03-31    315.463053\n",
       "1995-04-30    315.361936\n",
       "1995-05-31    315.377175\n",
       "                 ...    \n",
       "2015-08-31    336.992055\n",
       "2015-09-30    336.768941\n",
       "2015-10-31    336.843794\n",
       "2015-11-30    337.064266\n",
       "2015-12-31    337.403779\n",
       "Length: 252, dtype: float64"
      ]
     },
     "execution_count": 100,
     "metadata": {},
     "output_type": "execute_result"
    }
   ],
   "source": [
    "# To see the evolution of the parameter a throughout the TES algorithm you can ask:\n",
    "tes_model.level"
   ]
  },
  {
   "cell_type": "code",
   "execution_count": 101,
   "metadata": {},
   "outputs": [
    {
     "data": {
      "text/plain": [
       "1995-01-31    0.087251\n",
       "1995-02-28    0.087251\n",
       "1995-03-31    0.087251\n",
       "1995-04-30    0.087251\n",
       "1995-05-31    0.087251\n",
       "                ...   \n",
       "2015-08-31    0.087251\n",
       "2015-09-30    0.087251\n",
       "2015-10-31    0.087251\n",
       "2015-11-30    0.087251\n",
       "2015-12-31    0.087251\n",
       "Length: 252, dtype: float64"
      ]
     },
     "execution_count": 101,
     "metadata": {},
     "output_type": "execute_result"
    }
   ],
   "source": [
    "# To see the evolution of the parameter b throughout the TES algorithm you can ask:\n",
    "tes_model.trend"
   ]
  },
  {
   "cell_type": "code",
   "execution_count": 102,
   "metadata": {},
   "outputs": [
    {
     "data": {
      "text/plain": [
       "1995-01-31   -0.097597\n",
       "1995-02-28    0.529915\n",
       "1995-03-31    1.220283\n",
       "1995-04-30    2.299226\n",
       "1995-05-31    2.791498\n",
       "                ...   \n",
       "2015-08-31   -1.146918\n",
       "2015-09-30   -2.852262\n",
       "2015-10-31   -3.137135\n",
       "2015-11-30   -2.015812\n",
       "2015-12-31   -0.979255\n",
       "Length: 252, dtype: float64"
      ]
     },
     "execution_count": 102,
     "metadata": {},
     "output_type": "execute_result"
    }
   ],
   "source": [
    "# To see the evolution of the seasonal coefficients throughout the TES algorithm you can ask:\n",
    "tes_model.season"
   ]
  },
  {
   "cell_type": "raw",
   "metadata": {},
   "source": [
    "Question : What are the last 12 seasonal coefficients estimated?"
   ]
  },
  {
   "cell_type": "code",
   "execution_count": null,
   "metadata": {},
   "outputs": [],
   "source": []
  },
  {
   "cell_type": "raw",
   "metadata": {},
   "source": [
    "Question : Using the last value of a, b and the 12 seasonal coefficients, what should be the predictions of the 2 first point of the validation set ?"
   ]
  },
  {
   "cell_type": "code",
   "execution_count": null,
   "metadata": {},
   "outputs": [],
   "source": []
  },
  {
   "cell_type": "code",
   "execution_count": 105,
   "metadata": {},
   "outputs": [
    {
     "data": {
      "text/plain": [
       "2016-01-31    337.393434\n",
       "2016-02-29    338.108197\n",
       "Freq: M, dtype: float64"
      ]
     },
     "execution_count": 105,
     "metadata": {},
     "output_type": "execute_result"
    }
   ],
   "source": [
    "# These predictions can be obtained by the following command : \n",
    "tes_model.forecast(2)"
   ]
  },
  {
   "cell_type": "raw",
   "metadata": {},
   "source": [
    "Question :\n",
    " - Compute the predictions for the whole validation set\n",
    " - Plot on a graph the training, validation data and the predictions made by the TES algorithm\n",
    " - Compute the squared prediction error on the validation set"
   ]
  },
  {
   "cell_type": "code",
   "execution_count": null,
   "metadata": {},
   "outputs": [],
   "source": []
  },
  {
   "cell_type": "code",
   "execution_count": null,
   "metadata": {},
   "outputs": [],
   "source": []
  },
  {
   "cell_type": "code",
   "execution_count": 109,
   "metadata": {},
   "outputs": [
    {
     "data": {
      "text/html": [
       "<table class=\"simpletable\">\n",
       "<caption>ExponentialSmoothing Model Results</caption>\n",
       "<tr>\n",
       "  <th>Dep. Variable:</th>             <td>CO2</td>         <th>  No. Observations:  </th>        <td>252</td>      \n",
       "</tr>\n",
       "<tr>\n",
       "  <th>Model:</th>            <td>ExponentialSmoothing</td> <th>  SSE                </th>      <td>17.300</td>     \n",
       "</tr>\n",
       "<tr>\n",
       "  <th>Optimized:</th>                <td>True</td>         <th>  AIC                </th>     <td>-643.040</td>    \n",
       "</tr>\n",
       "<tr>\n",
       "  <th>Trend:</th>                  <td>Additive</td>       <th>  BIC                </th>     <td>-586.569</td>    \n",
       "</tr>\n",
       "<tr>\n",
       "  <th>Seasonal:</th>            <td>Multiplicative</td>    <th>  AICC               </th>     <td>-640.104</td>    \n",
       "</tr>\n",
       "<tr>\n",
       "  <th>Seasonal Periods:</th>          <td>12</td>          <th>  Date:              </th> <td>Sun, 14 Feb 2021</td>\n",
       "</tr>\n",
       "<tr>\n",
       "  <th>Box-Cox:</th>                  <td>False</td>        <th>  Time:              </th>     <td>09:46:52</td>    \n",
       "</tr>\n",
       "<tr>\n",
       "  <th>Box-Cox Coeff.:</th>           <td>None</td>         <th>                     </th>         <td> </td>       \n",
       "</tr>\n",
       "</table>\n",
       "<table class=\"simpletable\">\n",
       "<tr>\n",
       "           <td></td>                  <th>coeff</th>                <th>code</th>               <th>optimized</th>     \n",
       "</tr>\n",
       "<tr>\n",
       "  <th>smoothing_level</th>    <td>           0.6309936</td> <td>               alpha</td> <td>                True</td>\n",
       "</tr>\n",
       "<tr>\n",
       "  <th>smoothing_trend</th>    <td>          1.8959e-14</td> <td>                beta</td> <td>                True</td>\n",
       "</tr>\n",
       "<tr>\n",
       "  <th>smoothing_seasonal</th> <td>          9.3967e-15</td> <td>               gamma</td> <td>                True</td>\n",
       "</tr>\n",
       "<tr>\n",
       "  <th>initial_level</th>      <td>           317.65043</td> <td>                 l.0</td> <td>                True</td>\n",
       "</tr>\n",
       "<tr>\n",
       "  <th>initial_trend</th>      <td>           0.0879707</td> <td>                 b.0</td> <td>                True</td>\n",
       "</tr>\n",
       "<tr>\n",
       "  <th>initial_seasons.0</th>  <td>           0.9926663</td> <td>                 s.0</td> <td>                True</td>\n",
       "</tr>\n",
       "<tr>\n",
       "  <th>initial_seasons.1</th>  <td>           0.9945847</td> <td>                 s.1</td> <td>                True</td>\n",
       "</tr>\n",
       "<tr>\n",
       "  <th>initial_seasons.2</th>  <td>           0.9967015</td> <td>                 s.2</td> <td>                True</td>\n",
       "</tr>\n",
       "<tr>\n",
       "  <th>initial_seasons.3</th>  <td>           0.9999974</td> <td>                 s.3</td> <td>                True</td>\n",
       "</tr>\n",
       "<tr>\n",
       "  <th>initial_seasons.4</th>  <td>           1.0014948</td> <td>                 s.4</td> <td>                True</td>\n",
       "</tr>\n",
       "<tr>\n",
       "  <th>initial_seasons.5</th>  <td>           0.9997795</td> <td>                 s.5</td> <td>                True</td>\n",
       "</tr>\n",
       "<tr>\n",
       "  <th>initial_seasons.6</th>  <td>           0.9955714</td> <td>                 s.6</td> <td>                True</td>\n",
       "</tr>\n",
       "<tr>\n",
       "  <th>initial_seasons.7</th>  <td>           0.9894615</td> <td>                 s.7</td> <td>                True</td>\n",
       "</tr>\n",
       "<tr>\n",
       "  <th>initial_seasons.8</th>  <td>           0.9842488</td> <td>                 s.8</td> <td>                True</td>\n",
       "</tr>\n",
       "<tr>\n",
       "  <th>initial_seasons.9</th>  <td>           0.9833817</td> <td>                 s.9</td> <td>                True</td>\n",
       "</tr>\n",
       "<tr>\n",
       "  <th>initial_seasons.10</th> <td>           0.9868044</td> <td>                s.10</td> <td>                True</td>\n",
       "</tr>\n",
       "<tr>\n",
       "  <th>initial_seasons.11</th> <td>           0.9899708</td> <td>                s.11</td> <td>                True</td>\n",
       "</tr>\n",
       "</table>"
      ],
      "text/plain": [
       "<class 'statsmodels.iolib.summary.Summary'>\n",
       "\"\"\"\n",
       "                       ExponentialSmoothing Model Results                       \n",
       "================================================================================\n",
       "Dep. Variable:                      CO2   No. Observations:                  252\n",
       "Model:             ExponentialSmoothing   SSE                             17.300\n",
       "Optimized:                         True   AIC                           -643.040\n",
       "Trend:                         Additive   BIC                           -586.569\n",
       "Seasonal:                Multiplicative   AICC                          -640.104\n",
       "Seasonal Periods:                    12   Date:                 Sun, 14 Feb 2021\n",
       "Box-Cox:                          False   Time:                         09:46:52\n",
       "Box-Cox Coeff.:                    None                                         \n",
       "=================================================================================\n",
       "                          coeff                 code              optimized      \n",
       "---------------------------------------------------------------------------------\n",
       "smoothing_level               0.6309936                alpha                 True\n",
       "smoothing_trend              1.8959e-14                 beta                 True\n",
       "smoothing_seasonal           9.3967e-15                gamma                 True\n",
       "initial_level                 317.65043                  l.0                 True\n",
       "initial_trend                 0.0879707                  b.0                 True\n",
       "initial_seasons.0             0.9926663                  s.0                 True\n",
       "initial_seasons.1             0.9945847                  s.1                 True\n",
       "initial_seasons.2             0.9967015                  s.2                 True\n",
       "initial_seasons.3             0.9999974                  s.3                 True\n",
       "initial_seasons.4             1.0014948                  s.4                 True\n",
       "initial_seasons.5             0.9997795                  s.5                 True\n",
       "initial_seasons.6             0.9955714                  s.6                 True\n",
       "initial_seasons.7             0.9894615                  s.7                 True\n",
       "initial_seasons.8             0.9842488                  s.8                 True\n",
       "initial_seasons.9             0.9833817                  s.9                 True\n",
       "initial_seasons.10            0.9868044                 s.10                 True\n",
       "initial_seasons.11            0.9899708                 s.11                 True\n",
       "---------------------------------------------------------------------------------\n",
       "\"\"\""
      ]
     },
     "execution_count": 109,
     "metadata": {},
     "output_type": "execute_result"
    }
   ],
   "source": [
    "# We will now try a model with a multiplicative seasonal composant. \n",
    "# For this, you need to specify seasonal = 'mul' in the call of the Exponenatial smoothing function : \n",
    "tes_model = ExponentialSmoothing(co2_train, initialization_method='estimated',seasonal_periods=12, trend = 'add', seasonal = 'mul').fit()\n",
    "tes_model.summary()"
   ]
  },
  {
   "cell_type": "raw",
   "metadata": {},
   "source": [
    "Question : Look at the last values of level, trend, and seasonal components of this model, and try to predict the\n",
    "2 first values of the validation set using these values"
   ]
  },
  {
   "cell_type": "code",
   "execution_count": null,
   "metadata": {},
   "outputs": [],
   "source": []
  },
  {
   "cell_type": "code",
   "execution_count": 111,
   "metadata": {},
   "outputs": [
    {
     "data": {
      "text/plain": [
       "2016-01-31    337.436496\n",
       "2016-02-29    338.176124\n",
       "Freq: M, dtype: float64"
      ]
     },
     "execution_count": 111,
     "metadata": {},
     "output_type": "execute_result"
    }
   ],
   "source": [
    "# These predictions can be obtained by the command:\n",
    "tes_model.forecast(2)"
   ]
  },
  {
   "cell_type": "raw",
   "metadata": {},
   "source": [
    "Question :\n",
    " - Compute the predictions for the whole validation set\n",
    " - Plot on a graph the training, validation data and the predictions made by the TES algorithm\n",
    " - Compute the squared prediction error on the validation set"
   ]
  },
  {
   "cell_type": "code",
   "execution_count": null,
   "metadata": {
    "scrolled": true
   },
   "outputs": [],
   "source": []
  },
  {
   "cell_type": "markdown",
   "metadata": {},
   "source": [
    "## Classical AutoRegressive models (no trend no season)"
   ]
  },
  {
   "cell_type": "raw",
   "metadata": {},
   "source": [
    "Question : Try different classical AR models and select the best order for this time series"
   ]
  },
  {
   "cell_type": "code",
   "execution_count": null,
   "metadata": {},
   "outputs": [],
   "source": []
  },
  {
   "cell_type": "raw",
   "metadata": {},
   "source": [
    "Question : Apply the selected model to predict the whole validation data, plot the predictions and compute the error on the validation data"
   ]
  },
  {
   "cell_type": "code",
   "execution_count": null,
   "metadata": {},
   "outputs": [],
   "source": []
  },
  {
   "cell_type": "markdown",
   "metadata": {},
   "source": [
    "## AutoRegressive models with trend"
   ]
  },
  {
   "cell_type": "raw",
   "metadata": {},
   "source": [
    "Questions : Same questions with AR with trend"
   ]
  },
  {
   "cell_type": "code",
   "execution_count": null,
   "metadata": {},
   "outputs": [],
   "source": []
  },
  {
   "cell_type": "markdown",
   "metadata": {},
   "source": [
    "## AutoRegressive models with seasonal component"
   ]
  },
  {
   "cell_type": "code",
   "execution_count": 119,
   "metadata": {},
   "outputs": [
    {
     "name": "stderr",
     "output_type": "stream",
     "text": [
      "/Users/smalinow/opt/anaconda3/lib/python3.7/site-packages/statsmodels/tsa/base/tsa_model.py:527: ValueWarning: No frequency information was provided, so inferred frequency M will be used.\n",
      "  % freq, ValueWarning)\n",
      "/Users/smalinow/opt/anaconda3/lib/python3.7/site-packages/statsmodels/tsa/ar_model.py:252: FutureWarning: The parameter names will change after 0.12 is released. Set old_names to False to use the new names now. Set old_names to True to use the old names. \n",
      "  FutureWarning,\n"
     ]
    },
    {
     "data": {
      "text/html": [
       "<table class=\"simpletable\">\n",
       "<caption>AutoReg Model Results</caption>\n",
       "<tr>\n",
       "  <th>Dep. Variable:</th>        <td>CO2</td>       <th>  No. Observations:  </th>   <td>252</td>  \n",
       "</tr>\n",
       "<tr>\n",
       "  <th>Model:</th>         <td>Seas. AutoReg(1)</td> <th>  Log Likelihood     </th> <td>-35.315</td>\n",
       "</tr>\n",
       "<tr>\n",
       "  <th>Method:</th>         <td>Conditional MLE</td> <th>  S.D. of innovations</th>  <td>0.279</td> \n",
       "</tr>\n",
       "<tr>\n",
       "  <th>Date:</th>          <td>Sun, 14 Feb 2021</td> <th>  AIC                </th> <td>-2.445</td> \n",
       "</tr>\n",
       "<tr>\n",
       "  <th>Time:</th>              <td>09:55:39</td>     <th>  BIC                </th> <td>-2.248</td> \n",
       "</tr>\n",
       "<tr>\n",
       "  <th>Sample:</th>           <td>02-28-1995</td>    <th>  HQIC               </th> <td>-2.366</td> \n",
       "</tr>\n",
       "<tr>\n",
       "  <th></th>                 <td>- 12-31-2015</td>   <th>                     </th>    <td> </td>   \n",
       "</tr>\n",
       "</table>\n",
       "<table class=\"simpletable\">\n",
       "<tr>\n",
       "       <td></td>          <th>coef</th>     <th>std err</th>      <th>z</th>      <th>P>|z|</th>  <th>[0.025</th>    <th>0.975]</th>  \n",
       "</tr>\n",
       "<tr>\n",
       "  <th>intercept</th>   <td>    0.1829</td> <td>    0.910</td> <td>    0.201</td> <td> 0.841</td> <td>   -1.601</td> <td>    1.967</td>\n",
       "</tr>\n",
       "<tr>\n",
       "  <th>seasonal.1</th>  <td>   -0.2615</td> <td>    0.087</td> <td>   -3.005</td> <td> 0.003</td> <td>   -0.432</td> <td>   -0.091</td>\n",
       "</tr>\n",
       "<tr>\n",
       "  <th>seasonal.2</th>  <td>   -0.2004</td> <td>    0.087</td> <td>   -2.301</td> <td> 0.021</td> <td>   -0.371</td> <td>   -0.030</td>\n",
       "</tr>\n",
       "<tr>\n",
       "  <th>seasonal.3</th>  <td>    0.1863</td> <td>    0.087</td> <td>    2.136</td> <td> 0.033</td> <td>    0.015</td> <td>    0.357</td>\n",
       "</tr>\n",
       "<tr>\n",
       "  <th>seasonal.4</th>  <td>   -0.4033</td> <td>    0.087</td> <td>   -4.610</td> <td> 0.000</td> <td>   -0.575</td> <td>   -0.232</td>\n",
       "</tr>\n",
       "<tr>\n",
       "  <th>seasonal.5</th>  <td>   -1.4575</td> <td>    0.088</td> <td>  -16.627</td> <td> 0.000</td> <td>   -1.629</td> <td>   -1.286</td>\n",
       "</tr>\n",
       "<tr>\n",
       "  <th>seasonal.6</th>  <td>   -2.2721</td> <td>    0.088</td> <td>  -25.964</td> <td> 0.000</td> <td>   -2.444</td> <td>   -2.101</td>\n",
       "</tr>\n",
       "<tr>\n",
       "  <th>seasonal.7</th>  <td>   -2.8942</td> <td>    0.087</td> <td>  -33.189</td> <td> 0.000</td> <td>   -3.065</td> <td>   -2.723</td>\n",
       "</tr>\n",
       "<tr>\n",
       "  <th>seasonal.8</th>  <td>   -2.5933</td> <td>    0.087</td> <td>  -29.800</td> <td> 0.000</td> <td>   -2.764</td> <td>   -2.423</td>\n",
       "</tr>\n",
       "<tr>\n",
       "  <th>seasonal.9</th>  <td>   -1.1689</td> <td>    0.087</td> <td>  -13.415</td> <td> 0.000</td> <td>   -1.340</td> <td>   -0.998</td>\n",
       "</tr>\n",
       "<tr>\n",
       "  <th>seasonal.10</th> <td>    0.2378</td> <td>    0.087</td> <td>    2.728</td> <td> 0.006</td> <td>    0.067</td> <td>    0.409</td>\n",
       "</tr>\n",
       "<tr>\n",
       "  <th>seasonal.11</th> <td>    0.1501</td> <td>    0.087</td> <td>    1.724</td> <td> 0.085</td> <td>   -0.021</td> <td>    0.321</td>\n",
       "</tr>\n",
       "<tr>\n",
       "  <th>CO2.L1</th>      <td>    1.0024</td> <td>    0.003</td> <td>  357.539</td> <td> 0.000</td> <td>    0.997</td> <td>    1.008</td>\n",
       "</tr>\n",
       "</table>\n",
       "<table class=\"simpletable\">\n",
       "<caption>Roots</caption>\n",
       "<tr>\n",
       "    <td></td>   <th>            Real</th>  <th>         Imaginary</th> <th>         Modulus</th>  <th>        Frequency</th>\n",
       "</tr>\n",
       "<tr>\n",
       "  <th>AR.1</th> <td>           0.9976</td> <td>          +0.0000j</td> <td>           0.9976</td> <td>           0.0000</td>\n",
       "</tr>\n",
       "</table>"
      ],
      "text/plain": [
       "<class 'statsmodels.iolib.summary.Summary'>\n",
       "\"\"\"\n",
       "                            AutoReg Model Results                             \n",
       "==============================================================================\n",
       "Dep. Variable:                    CO2   No. Observations:                  252\n",
       "Model:               Seas. AutoReg(1)   Log Likelihood                 -35.315\n",
       "Method:               Conditional MLE   S.D. of innovations              0.279\n",
       "Date:                Sun, 14 Feb 2021   AIC                             -2.445\n",
       "Time:                        09:55:39   BIC                             -2.248\n",
       "Sample:                    02-28-1995   HQIC                            -2.366\n",
       "                         - 12-31-2015                                         \n",
       "===============================================================================\n",
       "                  coef    std err          z      P>|z|      [0.025      0.975]\n",
       "-------------------------------------------------------------------------------\n",
       "intercept       0.1829      0.910      0.201      0.841      -1.601       1.967\n",
       "seasonal.1     -0.2615      0.087     -3.005      0.003      -0.432      -0.091\n",
       "seasonal.2     -0.2004      0.087     -2.301      0.021      -0.371      -0.030\n",
       "seasonal.3      0.1863      0.087      2.136      0.033       0.015       0.357\n",
       "seasonal.4     -0.4033      0.087     -4.610      0.000      -0.575      -0.232\n",
       "seasonal.5     -1.4575      0.088    -16.627      0.000      -1.629      -1.286\n",
       "seasonal.6     -2.2721      0.088    -25.964      0.000      -2.444      -2.101\n",
       "seasonal.7     -2.8942      0.087    -33.189      0.000      -3.065      -2.723\n",
       "seasonal.8     -2.5933      0.087    -29.800      0.000      -2.764      -2.423\n",
       "seasonal.9     -1.1689      0.087    -13.415      0.000      -1.340      -0.998\n",
       "seasonal.10     0.2378      0.087      2.728      0.006       0.067       0.409\n",
       "seasonal.11     0.1501      0.087      1.724      0.085      -0.021       0.321\n",
       "CO2.L1          1.0024      0.003    357.539      0.000       0.997       1.008\n",
       "                                    Roots                                    \n",
       "=============================================================================\n",
       "                  Real          Imaginary           Modulus         Frequency\n",
       "-----------------------------------------------------------------------------\n",
       "AR.1            0.9976           +0.0000j            0.9976            0.0000\n",
       "-----------------------------------------------------------------------------\n",
       "\"\"\""
      ]
     },
     "execution_count": 119,
     "metadata": {},
     "output_type": "execute_result"
    }
   ],
   "source": [
    "# We will now apply a seasonal AR model of order 1 without trend (to start):\n",
    "# For this, you need to specify seasonal = True and to indicate the period of the seasonal component (12 here)\n",
    "ARS = AutoReg(co2_train, lags = 1, trend = 'c',seasonal=True, period = 12).fit()\n",
    "ARS.summary()"
   ]
  },
  {
   "cell_type": "raw",
   "metadata": {},
   "source": [
    "Question : How many parameters are estimated for such a model ?"
   ]
  },
  {
   "cell_type": "raw",
   "metadata": {},
   "source": []
  },
  {
   "cell_type": "raw",
   "metadata": {},
   "source": [
    "You should see the values of these parameters in the results above. Note that there are only 11 seasonal coefficients shown. The first one (seasonal.0 is always equal to 0 in this implementation of AR models).\n",
    "Question : What should be the predictions of the 2 first point of the validation data ?"
   ]
  },
  {
   "cell_type": "code",
   "execution_count": null,
   "metadata": {},
   "outputs": [],
   "source": []
  },
  {
   "cell_type": "code",
   "execution_count": 130,
   "metadata": {},
   "outputs": [
    {
     "name": "stderr",
     "output_type": "stream",
     "text": [
      "/Users/smalinow/opt/anaconda3/lib/python3.7/site-packages/statsmodels/tsa/deterministic.py:152: UserWarning: Only PeriodIndexes, DatetimeIndexes with a frequency set, RangesIndexes, and Int64Indexes with a unit increment support extending. The index is set will contain the position relative to the data length.\n",
      "  UserWarning,\n"
     ]
    },
    {
     "data": {
      "text/plain": [
       "2016-01-31    337.565977\n",
       "2016-02-29    338.312892\n",
       "Freq: M, dtype: float64"
      ]
     },
     "execution_count": 130,
     "metadata": {},
     "output_type": "execute_result"
    }
   ],
   "source": [
    "#These values can be obtained by the following command:\n",
    "ARS.forecast(2)"
   ]
  },
  {
   "cell_type": "raw",
   "metadata": {},
   "source": [
    "Question : Try now different ARS models with different orders and select the best one."
   ]
  },
  {
   "cell_type": "code",
   "execution_count": null,
   "metadata": {},
   "outputs": [],
   "source": []
  },
  {
   "cell_type": "raw",
   "metadata": {},
   "source": [
    "Question : Apply the selected model to predict the whole validation data, plot the predictions and compute the error on the validation data"
   ]
  },
  {
   "cell_type": "code",
   "execution_count": null,
   "metadata": {},
   "outputs": [],
   "source": []
  },
  {
   "cell_type": "raw",
   "metadata": {},
   "source": [
    "Question : Same questions for a seasonal AutoRegressive model with a trend"
   ]
  },
  {
   "cell_type": "code",
   "execution_count": null,
   "metadata": {},
   "outputs": [],
   "source": []
  },
  {
   "cell_type": "code",
   "execution_count": null,
   "metadata": {},
   "outputs": [],
   "source": []
  },
  {
   "cell_type": "raw",
   "metadata": {},
   "source": [
    "Conclusion ?\n",
    "Apply the best model from the ones you tried in this TP to the whole CO2 series to predict the 24 next values."
   ]
  },
  {
   "cell_type": "code",
   "execution_count": null,
   "metadata": {},
   "outputs": [],
   "source": []
  }
 ],
 "metadata": {
  "kernelspec": {
   "display_name": "Python 3 (ipykernel)",
   "language": "python",
   "name": "python3"
  },
  "language_info": {
   "codemirror_mode": {
    "name": "ipython",
    "version": 3
   },
   "file_extension": ".py",
   "mimetype": "text/x-python",
   "name": "python",
   "nbconvert_exporter": "python",
   "pygments_lexer": "ipython3",
   "version": "3.11.5"
  }
 },
 "nbformat": 4,
 "nbformat_minor": 4
}
