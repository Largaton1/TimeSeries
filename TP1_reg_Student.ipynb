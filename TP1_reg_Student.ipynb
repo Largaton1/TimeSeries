{
 "cells": [
  {
   "cell_type": "markdown",
   "metadata": {},
   "source": [
    "# MPC - TP - Prediction by regression"
   ]
  },
  {
   "cell_type": "code",
   "execution_count": 11,
   "metadata": {},
   "outputs": [],
   "source": [
    "import pandas as pd\n",
    "import numpy as np\n",
    "import matplotlib.pyplot as plt\n",
    "%matplotlib inline"
   ]
  },
  {
   "cell_type": "code",
   "execution_count": 12,
   "metadata": {},
   "outputs": [
    {
     "data": {
      "text/html": [
       "<div>\n",
       "<style scoped>\n",
       "    .dataframe tbody tr th:only-of-type {\n",
       "        vertical-align: middle;\n",
       "    }\n",
       "\n",
       "    .dataframe tbody tr th {\n",
       "        vertical-align: top;\n",
       "    }\n",
       "\n",
       "    .dataframe thead th {\n",
       "        text-align: right;\n",
       "    }\n",
       "</style>\n",
       "<table border=\"1\" class=\"dataframe\">\n",
       "  <thead>\n",
       "    <tr style=\"text-align: right;\">\n",
       "      <th></th>\n",
       "      <th>y</th>\n",
       "      <th>x1</th>\n",
       "      <th>x2</th>\n",
       "      <th>x3</th>\n",
       "      <th>x4</th>\n",
       "      <th>x5</th>\n",
       "      <th>x6</th>\n",
       "      <th>x7</th>\n",
       "      <th>x8</th>\n",
       "      <th>x9</th>\n",
       "      <th>x10</th>\n",
       "    </tr>\n",
       "  </thead>\n",
       "  <tbody>\n",
       "    <tr>\n",
       "      <th>0</th>\n",
       "      <td>87</td>\n",
       "      <td>15.6</td>\n",
       "      <td>18.5</td>\n",
       "      <td>18.4</td>\n",
       "      <td>4</td>\n",
       "      <td>4</td>\n",
       "      <td>8</td>\n",
       "      <td>0.6946</td>\n",
       "      <td>-1.7101</td>\n",
       "      <td>-0.6946</td>\n",
       "      <td>84</td>\n",
       "    </tr>\n",
       "    <tr>\n",
       "      <th>1</th>\n",
       "      <td>82</td>\n",
       "      <td>17.0</td>\n",
       "      <td>18.4</td>\n",
       "      <td>17.7</td>\n",
       "      <td>5</td>\n",
       "      <td>5</td>\n",
       "      <td>7</td>\n",
       "      <td>-4.3301</td>\n",
       "      <td>-4.0000</td>\n",
       "      <td>-3.0000</td>\n",
       "      <td>87</td>\n",
       "    </tr>\n",
       "    <tr>\n",
       "      <th>2</th>\n",
       "      <td>92</td>\n",
       "      <td>15.3</td>\n",
       "      <td>17.6</td>\n",
       "      <td>19.5</td>\n",
       "      <td>2</td>\n",
       "      <td>5</td>\n",
       "      <td>4</td>\n",
       "      <td>2.9544</td>\n",
       "      <td>1.8794</td>\n",
       "      <td>0.5209</td>\n",
       "      <td>82</td>\n",
       "    </tr>\n",
       "    <tr>\n",
       "      <th>3</th>\n",
       "      <td>114</td>\n",
       "      <td>16.2</td>\n",
       "      <td>19.7</td>\n",
       "      <td>22.5</td>\n",
       "      <td>1</td>\n",
       "      <td>1</td>\n",
       "      <td>0</td>\n",
       "      <td>0.9848</td>\n",
       "      <td>0.3473</td>\n",
       "      <td>-0.1736</td>\n",
       "      <td>92</td>\n",
       "    </tr>\n",
       "    <tr>\n",
       "      <th>4</th>\n",
       "      <td>94</td>\n",
       "      <td>17.4</td>\n",
       "      <td>20.5</td>\n",
       "      <td>20.4</td>\n",
       "      <td>8</td>\n",
       "      <td>8</td>\n",
       "      <td>7</td>\n",
       "      <td>-0.5000</td>\n",
       "      <td>-2.9544</td>\n",
       "      <td>-4.3301</td>\n",
       "      <td>114</td>\n",
       "    </tr>\n",
       "    <tr>\n",
       "      <th>...</th>\n",
       "      <td>...</td>\n",
       "      <td>...</td>\n",
       "      <td>...</td>\n",
       "      <td>...</td>\n",
       "      <td>...</td>\n",
       "      <td>...</td>\n",
       "      <td>...</td>\n",
       "      <td>...</td>\n",
       "      <td>...</td>\n",
       "      <td>...</td>\n",
       "      <td>...</td>\n",
       "    </tr>\n",
       "    <tr>\n",
       "      <th>96</th>\n",
       "      <td>84</td>\n",
       "      <td>13.3</td>\n",
       "      <td>17.7</td>\n",
       "      <td>17.8</td>\n",
       "      <td>3</td>\n",
       "      <td>5</td>\n",
       "      <td>6</td>\n",
       "      <td>0.0000</td>\n",
       "      <td>-1.0000</td>\n",
       "      <td>-1.2856</td>\n",
       "      <td>76</td>\n",
       "    </tr>\n",
       "    <tr>\n",
       "      <th>97</th>\n",
       "      <td>77</td>\n",
       "      <td>16.2</td>\n",
       "      <td>20.8</td>\n",
       "      <td>22.1</td>\n",
       "      <td>6</td>\n",
       "      <td>5</td>\n",
       "      <td>5</td>\n",
       "      <td>-0.6946</td>\n",
       "      <td>-2.0000</td>\n",
       "      <td>-1.3681</td>\n",
       "      <td>71</td>\n",
       "    </tr>\n",
       "    <tr>\n",
       "      <th>98</th>\n",
       "      <td>99</td>\n",
       "      <td>16.9</td>\n",
       "      <td>23.0</td>\n",
       "      <td>22.6</td>\n",
       "      <td>6</td>\n",
       "      <td>4</td>\n",
       "      <td>7</td>\n",
       "      <td>1.5000</td>\n",
       "      <td>0.8682</td>\n",
       "      <td>0.8682</td>\n",
       "      <td>77</td>\n",
       "    </tr>\n",
       "    <tr>\n",
       "      <th>99</th>\n",
       "      <td>83</td>\n",
       "      <td>16.9</td>\n",
       "      <td>19.8</td>\n",
       "      <td>22.1</td>\n",
       "      <td>6</td>\n",
       "      <td>5</td>\n",
       "      <td>3</td>\n",
       "      <td>-4.0000</td>\n",
       "      <td>-3.7588</td>\n",
       "      <td>-4.0000</td>\n",
       "      <td>99</td>\n",
       "    </tr>\n",
       "    <tr>\n",
       "      <th>100</th>\n",
       "      <td>70</td>\n",
       "      <td>15.7</td>\n",
       "      <td>18.6</td>\n",
       "      <td>20.7</td>\n",
       "      <td>7</td>\n",
       "      <td>7</td>\n",
       "      <td>7</td>\n",
       "      <td>0.0000</td>\n",
       "      <td>-1.0419</td>\n",
       "      <td>-4.0000</td>\n",
       "      <td>83</td>\n",
       "    </tr>\n",
       "  </tbody>\n",
       "</table>\n",
       "<p>101 rows × 11 columns</p>\n",
       "</div>"
      ],
      "text/plain": [
       "       y    x1    x2    x3  x4  x5  x6      x7      x8      x9  x10\n",
       "0     87  15.6  18.5  18.4   4   4   8  0.6946 -1.7101 -0.6946   84\n",
       "1     82  17.0  18.4  17.7   5   5   7 -4.3301 -4.0000 -3.0000   87\n",
       "2     92  15.3  17.6  19.5   2   5   4  2.9544  1.8794  0.5209   82\n",
       "3    114  16.2  19.7  22.5   1   1   0  0.9848  0.3473 -0.1736   92\n",
       "4     94  17.4  20.5  20.4   8   8   7 -0.5000 -2.9544 -4.3301  114\n",
       "..   ...   ...   ...   ...  ..  ..  ..     ...     ...     ...  ...\n",
       "96    84  13.3  17.7  17.8   3   5   6  0.0000 -1.0000 -1.2856   76\n",
       "97    77  16.2  20.8  22.1   6   5   5 -0.6946 -2.0000 -1.3681   71\n",
       "98    99  16.9  23.0  22.6   6   4   7  1.5000  0.8682  0.8682   77\n",
       "99    83  16.9  19.8  22.1   6   5   3 -4.0000 -3.7588 -4.0000   99\n",
       "100   70  15.7  18.6  20.7   7   7   7  0.0000 -1.0419 -4.0000   83\n",
       "\n",
       "[101 rows x 11 columns]"
      ]
     },
     "execution_count": 12,
     "metadata": {},
     "output_type": "execute_result"
    }
   ],
   "source": [
    "# Load the data\n",
    "ozone = pd.read_csv('ozone.txt', sep = ' ')\n",
    "ozone\n",
    "# y is the target variable, the other are predictive variables"
   ]
  },
  {
   "cell_type": "raw",
   "metadata": {
    "vscode": {
     "languageId": "raw"
    }
   },
   "source": [
    "Question : How many examples are there in this dataset ? How many variables (including the target one) describe them ?\n",
    "Nous avons: 101 exemples et 11 variables (dont la variable cible)."
   ]
  },
  {
   "cell_type": "raw",
   "metadata": {},
   "source": [
    "This dataset represents some meteorological information taken at different days during different periods.\n",
    " - y represents the maximal ozone (O3) concentration in the air during a given day\n",
    " - x1, x2, x3 are the temperatures at 9am, 12am, and 3pm during the same day\n",
    " - x4, x5, x6 represent the cloudiness at 9am, 12am, and 3pm during the same day\n",
    " - x7, x8, x9 represent the wind projected on the axis East-West at 9am, 12am, and 3pm during the same day\n",
    " - x10 is the maximal ozone (O3) concentration in the air during the day before.\n",
    " \n",
    "In this TP, we aim at predicting y using one or more of the available predictive variables (x1 to x10).\n",
    "We will apply the different techniques seen during the course to evaluate different regression models and try to choose the most adapted one."
   ]
  },
  {
   "cell_type": "markdown",
   "metadata": {},
   "source": [
    "## Exercise 1 : Simple linear regression to predict y"
   ]
  },
  {
   "cell_type": "raw",
   "metadata": {},
   "source": [
    "In this exercice, we will assume that we can only use one variable to predict y. Our objective is to find which variable is the best one for that.\n",
    "We will start by considering x1 to predict y."
   ]
  },
  {
   "cell_type": "raw",
   "metadata": {},
   "source": [
    "Question : Draw a plot to visualize the relationship between x1 (x-axis) and y (y-axis)\n",
    "Add a title, and labels for the axes.\n",
    "Hint : We want to visualize the points in a 2D graph (no line between the points).\n",
    "plt.scatter makes the job, or plt.plot but with 'o' as parameter to indicate that we want only the points (no lines)"
   ]
  },
  {
   "cell_type": "code",
   "execution_count": 17,
   "metadata": {},
   "outputs": [
    {
     "data": {
      "image/png": "[encoded data removed]",
      "text/plain": [
       "<Figure size 640x480 with 1 Axes>"
      ]
     },
     "metadata": {},
     "output_type": "display_data"
    }
   ],
   "source": [
    "plt.scatter(ozone['x1'], ozone['y'])\n",
    "plt.title('Relationship between x1 and y')\n",
    "plt.xlabel('x1')\n",
    "plt.ylabel('y')\n",
    "plt.show()"
   ]
  },
  {
   "cell_type": "code",
   "execution_count": null,
   "metadata": {
    "vscode": {
     "languageId": "markdown"
    }
   },
   "outputs": [],
   "source": []
  },
  {
   "cell_type": "code",
   "execution_count": null,
   "metadata": {
    "vscode": {
     "languageId": "markdown"
    }
   },
   "outputs": [],
   "source": []
  },
  {
   "cell_type": "raw",
   "metadata": {},
   "source": [
    "Question : Do you think that a regression model can help here to predict y using x1 ?"
   ]
  },
  {
   "cell_type": "raw",
   "metadata": {
    "vscode": {
     "languageId": "raw"
    }
   },
   "source": [
    "Oui, un modèle de régression peut potentiellement aider à prédire y en utilisant x1. En observant la relation entre x1 et y (comme dans le graphique tracé précédemment), si une tendance linéaire ou une corrélation significative est visible, cela indique que x1 a une influence sur y. Cependant, il est important de vérifier statistiquement cette relation à l'aide des coefficients, des tests de Student, et des valeurs p pour confirmer si x1 est un bon prédicteur de y. Si la relation est faible ou inexistante, un modèle de régression basé uniquement sur x1 ne sera pas efficace."
   ]
  },
  {
   "cell_type": "raw",
   "metadata": {},
   "source": []
  },
  {
   "cell_type": "raw",
   "metadata": {},
   "source": [
    "We will now create a regression model with y as target variable and x1 as predictive variable.\n",
    "For that, there are different possibilities in Python. We will use here the OLS function of the statsmodel package.\n",
    "It works like this: "
   ]
  },
  {
   "cell_type": "code",
   "execution_count": 18,
   "metadata": {},
   "outputs": [
    {
     "name": "stdout",
     "output_type": "stream",
     "text": [
      "     const    x1\n",
      "0      1.0  15.6\n",
      "1      1.0  17.0\n",
      "2      1.0  15.3\n",
      "3      1.0  16.2\n",
      "4      1.0  17.4\n",
      "..     ...   ...\n",
      "96     1.0  13.3\n",
      "97     1.0  16.2\n",
      "98     1.0  16.9\n",
      "99     1.0  16.9\n",
      "100    1.0  15.7\n",
      "\n",
      "[101 rows x 2 columns]\n"
     ]
    },
    {
     "data": {
      "text/html": [
       "<table class=\"simpletable\">\n",
       "<caption>OLS Regression Results</caption>\n",
       "<tr>\n",
       "  <th>Dep. Variable:</th>            <td>y</td>        <th>  R-squared:         </th> <td>   0.516</td>\n",
       "</tr>\n",
       "<tr>\n",
       "  <th>Model:</th>                   <td>OLS</td>       <th>  Adj. R-squared:    </th> <td>   0.511</td>\n",
       "</tr>\n",
       "<tr>\n",
       "  <th>Method:</th>             <td>Least Squares</td>  <th>  F-statistic:       </th> <td>   105.5</td>\n",
       "</tr>\n",
       "<tr>\n",
       "  <th>Date:</th>             <td>Wed, 09 Apr 2025</td> <th>  Prob (F-statistic):</th> <td>2.78e-17</td>\n",
       "</tr>\n",
       "<tr>\n",
       "  <th>Time:</th>                 <td>16:00:23</td>     <th>  Log-Likelihood:    </th> <td> -444.69</td>\n",
       "</tr>\n",
       "<tr>\n",
       "  <th>No. Observations:</th>      <td>   101</td>      <th>  AIC:               </th> <td>   893.4</td>\n",
       "</tr>\n",
       "<tr>\n",
       "  <th>Df Residuals:</th>          <td>    99</td>      <th>  BIC:               </th> <td>   898.6</td>\n",
       "</tr>\n",
       "<tr>\n",
       "  <th>Df Model:</th>              <td>     1</td>      <th>                     </th>     <td> </td>   \n",
       "</tr>\n",
       "<tr>\n",
       "  <th>Covariance Type:</th>      <td>nonrobust</td>    <th>                     </th>     <td> </td>   \n",
       "</tr>\n",
       "</table>\n",
       "<table class=\"simpletable\">\n",
       "<tr>\n",
       "    <td></td>       <th>coef</th>     <th>std err</th>      <th>t</th>      <th>P>|t|</th>  <th>[0.025</th>    <th>0.975]</th>  \n",
       "</tr>\n",
       "<tr>\n",
       "  <th>const</th> <td>  -33.0106</td> <td>   12.221</td> <td>   -2.701</td> <td> 0.008</td> <td>  -57.259</td> <td>   -8.762</td>\n",
       "</tr>\n",
       "<tr>\n",
       "  <th>x1</th>    <td>    6.7460</td> <td>    0.657</td> <td>   10.273</td> <td> 0.000</td> <td>    5.443</td> <td>    8.049</td>\n",
       "</tr>\n",
       "</table>\n",
       "<table class=\"simpletable\">\n",
       "<tr>\n",
       "  <th>Omnibus:</th>       <td> 2.779</td> <th>  Durbin-Watson:     </th> <td>   0.900</td>\n",
       "</tr>\n",
       "<tr>\n",
       "  <th>Prob(Omnibus):</th> <td> 0.249</td> <th>  Jarque-Bera (JB):  </th> <td>   2.289</td>\n",
       "</tr>\n",
       "<tr>\n",
       "  <th>Skew:</th>          <td> 0.360</td> <th>  Prob(JB):          </th> <td>   0.318</td>\n",
       "</tr>\n",
       "<tr>\n",
       "  <th>Kurtosis:</th>      <td> 3.163</td> <th>  Cond. No.          </th> <td>    115.</td>\n",
       "</tr>\n",
       "</table><br/><br/>Notes:<br/>[1] Standard Errors assume that the covariance matrix of the errors is correctly specified."
      ],
      "text/latex": [
       "\\begin{center}\n",
       "\\begin{tabular}{lclc}\n",
       "\\toprule\n",
       "\\textbf{Dep. Variable:}    &        y         & \\textbf{  R-squared:         } &     0.516   \\\\\n",
       "\\textbf{Model:}            &       OLS        & \\textbf{  Adj. R-squared:    } &     0.511   \\\\\n",
       "\\textbf{Method:}           &  Least Squares   & \\textbf{  F-statistic:       } &     105.5   \\\\\n",
       "\\textbf{Date:}             & Wed, 09 Apr 2025 & \\textbf{  Prob (F-statistic):} &  2.78e-17   \\\\\n",
       "\\textbf{Time:}             &     16:00:23     & \\textbf{  Log-Likelihood:    } &   -444.69   \\\\\n",
       "\\textbf{No. Observations:} &         101      & \\textbf{  AIC:               } &     893.4   \\\\\n",
       "\\textbf{Df Residuals:}     &          99      & \\textbf{  BIC:               } &     898.6   \\\\\n",
       "\\textbf{Df Model:}         &           1      & \\textbf{                     } &             \\\\\n",
       "\\textbf{Covariance Type:}  &    nonrobust     & \\textbf{                     } &             \\\\\n",
       "\\bottomrule\n",
       "\\end{tabular}\n",
       "\\begin{tabular}{lcccccc}\n",
       "               & \\textbf{coef} & \\textbf{std err} & \\textbf{t} & \\textbf{P$> |$t$|$} & \\textbf{[0.025} & \\textbf{0.975]}  \\\\\n",
       "\\midrule\n",
       "\\textbf{const} &     -33.0106  &       12.221     &    -2.701  &         0.008        &      -57.259    &       -8.762     \\\\\n",
       "\\textbf{x1}    &       6.7460  &        0.657     &    10.273  &         0.000        &        5.443    &        8.049     \\\\\n",
       "\\bottomrule\n",
       "\\end{tabular}\n",
       "\\begin{tabular}{lclc}\n",
       "\\textbf{Omnibus:}       &  2.779 & \\textbf{  Durbin-Watson:     } &    0.900  \\\\\n",
       "\\textbf{Prob(Omnibus):} &  0.249 & \\textbf{  Jarque-Bera (JB):  } &    2.289  \\\\\n",
       "\\textbf{Skew:}          &  0.360 & \\textbf{  Prob(JB):          } &    0.318  \\\\\n",
       "\\textbf{Kurtosis:}      &  3.163 & \\textbf{  Cond. No.          } &     115.  \\\\\n",
       "\\bottomrule\n",
       "\\end{tabular}\n",
       "%\\caption{OLS Regression Results}\n",
       "\\end{center}\n",
       "\n",
       "Notes: \\newline\n",
       " [1] Standard Errors assume that the covariance matrix of the errors is correctly specified."
      ],
      "text/plain": [
       "<class 'statsmodels.iolib.summary.Summary'>\n",
       "\"\"\"\n",
       "                            OLS Regression Results                            \n",
       "==============================================================================\n",
       "Dep. Variable:                      y   R-squared:                       0.516\n",
       "Model:                            OLS   Adj. R-squared:                  0.511\n",
       "Method:                 Least Squares   F-statistic:                     105.5\n",
       "Date:                Wed, 09 Apr 2025   Prob (F-statistic):           2.78e-17\n",
       "Time:                        16:00:23   Log-Likelihood:                -444.69\n",
       "No. Observations:                 101   AIC:                             893.4\n",
       "Df Residuals:                      99   BIC:                             898.6\n",
       "Df Model:                           1                                         \n",
       "Covariance Type:            nonrobust                                         \n",
       "==============================================================================\n",
       "                 coef    std err          t      P>|t|      [0.025      0.975]\n",
       "------------------------------------------------------------------------------\n",
       "const        -33.0106     12.221     -2.701      0.008     -57.259      -8.762\n",
       "x1             6.7460      0.657     10.273      0.000       5.443       8.049\n",
       "==============================================================================\n",
       "Omnibus:                        2.779   Durbin-Watson:                   0.900\n",
       "Prob(Omnibus):                  0.249   Jarque-Bera (JB):                2.289\n",
       "Skew:                           0.360   Prob(JB):                        0.318\n",
       "Kurtosis:                       3.163   Cond. No.                         115.\n",
       "==============================================================================\n",
       "\n",
       "Notes:\n",
       "[1] Standard Errors assume that the covariance matrix of the errors is correctly specified.\n",
       "\"\"\""
      ]
     },
     "execution_count": 18,
     "metadata": {},
     "output_type": "execute_result"
    }
   ],
   "source": [
    "import statsmodels.api as sm\n",
    "X = ozone['x1'] # Select the column containing the predictive variable\n",
    "X = sm.add_constant(X) # add a constant column for the constant term of the model (for the parameter beta_0)\n",
    "print(X) # you should see 2 columns in X : a constant one (const) with ones everywhere and another with the values of x1\n",
    "Y = ozone['y'] # Select the target variable and store it in Y\n",
    "model = sm.OLS(Y, X).fit() # fit the model to predict Y using X\n",
    "model.summary()"
   ]
  },
  {
   "cell_type": "raw",
   "metadata": {},
   "source": [
    "You can see above a lot of informations about the created model. The things that we need are : \n",
    "    - the coefficients of the model : in the column 'coef'. 2 coefficients here (beta0 for const and beta1 for x1). You can access them by model.params\n",
    "    - the uncertainty about the estimation of the coefficient : column 'std err'. We are only interested in the one for beta_1. You can access them by model.bse\n",
    "    - the value of the student's test about x1 : in the column 't'. You can access it by model.tvalues\n",
    "    - the critical probability of the student's test about x1 : column 'P>|t|'. You can access it by model.pvalues"
   ]
  },
  {
   "cell_type": "raw",
   "metadata": {},
   "source": [
    "Questions : \n",
    " - What is the equation of the model ?\n",
    " - What can you conclude about the influence of x1 on y ?"
   ]
  },
  {
   "cell_type": "code",
   "execution_count": 19,
   "metadata": {},
   "outputs": [
    {
     "name": "stdout",
     "output_type": "stream",
     "text": [
      "The equation of the model is: y = -33.01 + 6.75 * x1\n",
      "x1 has a statistically significant influence on y.\n"
     ]
    }
   ],
   "source": [
    "# Extract coefficients\n",
    "beta_0 = model.params['const']  # Intercept\n",
    "beta_1 = model.params['x1']     # Coefficient for x1\n",
    "\n",
    "# Equation of the model\n",
    "print(f\"The equation of the model is: y = {beta_0:.2f} + {beta_1:.2f} * x1\")\n",
    "\n",
    "# Analyze the influence of x1 on y\n",
    "p_value = model.pvalues['x1']\n",
    "if p_value < 0.05:\n",
    "    print(\"x1 has a statistically significant influence on y.\")\n",
    "else:\n",
    "    print(\"x1 does not have a statistically significant influence on y.\")"
   ]
  },
  {
   "cell_type": "raw",
   "metadata": {
    "vscode": {
     "languageId": "raw"
    }
   },
   "source": []
  },
  {
   "cell_type": "raw",
   "metadata": {},
   "source": [
    "Questions: \n",
    " - What should be the prediction made by the model for the first individual of the ozone dataset ? (index 0)\n",
    " - What is the residual (error) for this individual ?"
   ]
  },
  {
   "cell_type": "code",
   "execution_count": 20,
   "metadata": {},
   "outputs": [
    {
     "name": "stdout",
     "output_type": "stream",
     "text": [
      "Prediction for the first individual: 72.23\n",
      "Residual for the first individual: 14.77\n"
     ]
    }
   ],
   "source": [
    "# Prediction for the first individual\n",
    "x1_first = ozone.loc[0, 'x1']  # x1 value for the first individual\n",
    "prediction_first = beta_0 + beta_1 * x1_first\n",
    "print(f\"Prediction for the first individual: {prediction_first:.2f}\")\n",
    "\n",
    "# Residual (error) for the first individual\n",
    "actual_first = ozone.loc[0, 'y']  # Actual y value for the first individual\n",
    "residual_first = actual_first - prediction_first\n",
    "print(f\"Residual for the first individual: {residual_first:.2f}\")"
   ]
  },
  {
   "cell_type": "code",
   "execution_count": 21,
   "metadata": {},
   "outputs": [
    {
     "data": {
      "text/plain": [
       "0      72.226485\n",
       "1      81.670840\n",
       "2      70.202695\n",
       "3      76.274066\n",
       "4      84.369227\n",
       "         ...    \n",
       "96     56.710759\n",
       "97     76.274066\n",
       "98     80.996243\n",
       "99     80.996243\n",
       "100    72.901082\n",
       "Length: 101, dtype: float64"
      ]
     },
     "execution_count": 21,
     "metadata": {},
     "output_type": "execute_result"
    }
   ],
   "source": [
    "# All the predictions made by the model on the dataset used to fit the model can be accessed by\n",
    "model.fittedvalues\n",
    "# Check that the fitted value for the first individual is equal to the one you computed above"
   ]
  },
  {
   "cell_type": "code",
   "execution_count": 22,
   "metadata": {},
   "outputs": [
    {
     "data": {
      "text/plain": [
       "0      14.773515\n",
       "1       0.329160\n",
       "2      21.797305\n",
       "3      37.725934\n",
       "4       9.630773\n",
       "         ...    \n",
       "96     27.289241\n",
       "97      0.725934\n",
       "98     18.003757\n",
       "99      2.003757\n",
       "100    -2.901082\n",
       "Length: 101, dtype: float64"
      ]
     },
     "execution_count": 22,
     "metadata": {},
     "output_type": "execute_result"
    }
   ],
   "source": [
    "# All the residuals made by the model on the dataset used to fit the model can be accessed by\n",
    "model.resid\n",
    "# Check that the residual for the first individual is equal to the one you computed above"
   ]
  },
  {
   "cell_type": "raw",
   "metadata": {},
   "source": [
    "Question : Plot on the same graph the data (y VS x1, as before) and the regression model (the fitted values define the regression line). Add labels to the axis and a legend"
   ]
  },
  {
   "cell_type": "code",
   "execution_count": 24,
   "metadata": {},
   "outputs": [
    {
     "data": {
      "image/png": "[encoded data removed]",
      "text/plain": [
       "<Figure size 640x480 with 1 Axes>"
      ]
     },
     "metadata": {},
     "output_type": "display_data"
    }
   ],
   "source": [
    "# Scatter plot for the data\n",
    "plt.scatter(ozone['x1'], ozone['y'], label='Data', color='blue')\n",
    "\n",
    "# Regression line\n",
    "plt.plot(ozone['x1'], model.fittedvalues, label='Regression Line', color='red')\n",
    "\n",
    "# Add labels and legend\n",
    "plt.xlabel('x1')\n",
    "plt.ylabel('y')\n",
    "plt.title('Data and Regression Model')\n",
    "plt.legend()\n",
    "plt.show()"
   ]
  },
  {
   "cell_type": "code",
   "execution_count": null,
   "metadata": {},
   "outputs": [],
   "source": []
  },
  {
   "cell_type": "raw",
   "metadata": {},
   "source": [
    "We have seen in the CM two important quantities related to a regression model : the coefficient of determination (R^2) and I_r, the sum of squared residuals (residuals are errors made by the model on the data used to create it).\n",
    "The R^2 can be obtained by model.rsquared \n",
    "The residuals can be obtained by model.resid as explained before"
   ]
  },
  {
   "cell_type": "raw",
   "metadata": {},
   "source": [
    "Questions : \n",
    " - What is the R^2 of this model ?\n",
    " - Compute I_r\n",
    " - Compute I_t according to the formula in the slides. (you can use np.sum() and np.mean())\n",
    " - Deduce I_m \n"
   ]
  },
  {
   "cell_type": "code",
   "execution_count": 25,
   "metadata": {},
   "outputs": [
    {
     "name": "stdout",
     "output_type": "stream",
     "text": [
      "R^2 of the model: 0.5160\n",
      "I_r (sum of squared residuals): 39455.8049\n",
      "I_t (total sum of squares): 81516.0594\n",
      "I_m (explained sum of squares): 42060.2545\n"
     ]
    }
   ],
   "source": [
    "# R^2 of the model\n",
    "r_squared = model.rsquared\n",
    "print(f\"R^2 of the model: {r_squared:.4f}\")\n",
    "\n",
    "# Compute I_r (sum of squared residuals)\n",
    "I_r = np.sum(model.resid ** 2)\n",
    "print(f\"I_r (sum of squared residuals): {I_r:.4f}\")\n",
    "\n",
    "# Compute I_t (total sum of squares)\n",
    "y_mean = np.mean(Y)\n",
    "I_t = np.sum((Y - y_mean) ** 2)\n",
    "print(f\"I_t (total sum of squares): {I_t:.4f}\")\n",
    "\n",
    "# Deduce I_m (explained sum of squares)\n",
    "I_m = I_t - I_r\n",
    "print(f\"I_m (explained sum of squares): {I_m:.4f}\")"
   ]
  },
  {
   "cell_type": "code",
   "execution_count": null,
   "metadata": {},
   "outputs": [],
   "source": []
  },
  {
   "cell_type": "raw",
   "metadata": {},
   "source": [
    "To compare models with one predictive variable, we can use :\n",
    " - R^2 (higher is better)\n",
    " - I_r (lower is better)\n",
    " - the critical probability of the student's test on the predictive variable (lower is better)\n",
    "We have seen how to get these 3 quantities.\n",
    "We will now try another simple regression model (with another predictive variable) and compare these quantities."
   ]
  },
  {
   "cell_type": "raw",
   "metadata": {},
   "source": [
    "Question : Compute these quantities for a simple regression model that predicts y using x4. Which variable (x1 or x4) seems more adpated to predict y ?"
   ]
  },
  {
   "cell_type": "code",
   "execution_count": 26,
   "metadata": {},
   "outputs": [
    {
     "name": "stdout",
     "output_type": "stream",
     "text": [
      "R^2 of the model using x4: 0.3782\n",
      "I_r (sum of squared residuals) using x4: 50688.4199\n",
      "I_t (total sum of squares): 81516.0594\n",
      "I_m (explained sum of squares) using x4: 30827.6395\n",
      "P-value for x4: 7.8310e-12\n",
      "\n",
      "Comparaison:\n",
      "x1 has a higher R^2 and is better at explaining the variance in y.\n",
      "x1 has a lower I_r and is better at minimizing residuals.\n",
      "x1 has a lower p-value and is more statistically significant.\n"
     ]
    }
   ],
   "source": [
    "# Create the regression model for y using x4\n",
    "X_x4 = ozone['x4']  # Select x4 as the predictive variable\n",
    "X_x4 = sm.add_constant(X_x4)  # Add a constant column\n",
    "Y = ozone['y']  # Target variable\n",
    "model_x4 = sm.OLS(Y, X_x4).fit()  # Fit the model\n",
    "\n",
    "# Extract R^2\n",
    "r_squared_x4 = model_x4.rsquared\n",
    "print(f\"R^2 of the model using x4: {r_squared_x4:.4f}\")\n",
    "\n",
    "# Compute I_r (sum of squared residuals)\n",
    "I_r_x4 = np.sum(model_x4.resid ** 2)\n",
    "print(f\"I_r (sum of squared residuals) using x4: {I_r_x4:.4f}\")\n",
    "\n",
    "# Compute I_t (total sum of squares)\n",
    "I_t_x4 = np.sum((Y - y_mean) ** 2)\n",
    "print(f\"I_t (total sum of squares): {I_t_x4:.4f}\")\n",
    "\n",
    "# Deduce I_m (explained sum of squares)\n",
    "I_m_x4 = I_t_x4 - I_r_x4\n",
    "print(f\"I_m (explained sum of squares) using x4: {I_m_x4:.4f}\")\n",
    "\n",
    "# Extract p-value for x4\n",
    "p_value_x4 = model_x4.pvalues['x4']\n",
    "print(f\"P-value for x4: {p_value_x4:.4e}\")\n",
    "\n",
    "# Compare x1 and x4\n",
    "print(\"\\nComparaison:\")\n",
    "if r_squared > r_squared_x4:\n",
    "    print(\"x1 has a higher R^2 and is better at explaining the variance in y.\")\n",
    "else:\n",
    "    print(\"x4 has a higher R^2 and is better at explaining the variance in y.\")\n",
    "\n",
    "if I_r < I_r_x4:\n",
    "    print(\"x1 has a lower I_r and is better at minimizing residuals.\")\n",
    "else:\n",
    "    print(\"x4 has a lower I_r and is better at minimizing residuals.\")\n",
    "\n",
    "if p_value < p_value_x4:\n",
    "    print(\"x1 has a lower p-value and is more statistically significant.\")\n",
    "else:\n",
    "    print(\"x4 has a lower p-value and is more statistically significant.\")"
   ]
  },
  {
   "cell_type": "raw",
   "metadata": {},
   "source": [
    "Question : Select, according to these 3 criteria, the best variable (amongst the 10 predictive ones) to predict y.\n",
    "Hint : you can use a 'for' loop"
   ]
  },
  {
   "cell_type": "code",
   "execution_count": 27,
   "metadata": {},
   "outputs": [
    {
     "name": "stdout",
     "output_type": "stream",
     "text": [
      "Best variable: x2\n",
      "R^2: 0.6129\n",
      "I_r: 31555.3095\n",
      "P-value: 4.0198e-22\n"
     ]
    }
   ],
   "source": [
    "# Initialize variables to store the best variable and its metrics\n",
    "best_variable = None\n",
    "best_r_squared = -float('inf')  # Higher is better\n",
    "best_I_r = float('inf')         # Lower is better\n",
    "best_p_value = float('inf')     # Lower is better\n",
    "\n",
    "# Loop through all predictive variables\n",
    "for i in range(1, 11):  # x1 to x10\n",
    "    X_var = ozone[f'x{i}']  # Select the current variable\n",
    "    X_var = sm.add_constant(X_var)  # Add a constant column\n",
    "    model_var = sm.OLS(Y, X_var).fit()  # Fit the model\n",
    "    \n",
    "    # Extract metrics\n",
    "    r_squared_var = model_var.rsquared\n",
    "    I_r_var = np.sum(model_var.resid ** 2)\n",
    "    p_value_var = model_var.pvalues[f'x{i}']\n",
    "    \n",
    "    # Compare and update the best variable\n",
    "    if (r_squared_var > best_r_squared or\n",
    "        (r_squared_var == best_r_squared and I_r_var < best_I_r) or\n",
    "        (r_squared_var == best_r_squared and I_r_var == best_I_r and p_value_var < best_p_value)):\n",
    "        best_variable = f'x{i}'\n",
    "        best_r_squared = r_squared_var\n",
    "        best_I_r = I_r_var\n",
    "        best_p_value = p_value_var\n",
    "\n",
    "# Print the best variable and its metrics\n",
    "print(f\"Best variable: {best_variable}\")\n",
    "print(f\"R^2: {best_r_squared:.4f}\")\n",
    "print(f\"I_r: {best_I_r:.4f}\")\n",
    "print(f\"P-value: {best_p_value:.4e}\")"
   ]
  },
  {
   "cell_type": "code",
   "execution_count": null,
   "metadata": {},
   "outputs": [],
   "source": []
  },
  {
   "cell_type": "code",
   "execution_count": null,
   "metadata": {},
   "outputs": [],
   "source": []
  },
  {
   "cell_type": "raw",
   "metadata": {},
   "source": [
    "Now we will see how this best model behaves when predicting new data, and compare with the first model that we have tried (using x1). For this, we will 'cheat' (but we'll do it in a more proper way a bit later) : you will find\n",
    "10 new individuals in the file 'ozone_n.txt'. For these 10 new individuals, we have the values of the 10 predictive variables and also the value of the target variable. In a real prediction setting, you will never have new individuals with the ground truth (values of the target variable), but here we will do like that to start. We can consider that these new individuals are our test set. In a latter exercice, I will show you how to do a proper train / test split."
   ]
  },
  {
   "cell_type": "code",
   "execution_count": 28,
   "metadata": {},
   "outputs": [
    {
     "data": {
      "text/html": [
       "<div>\n",
       "<style scoped>\n",
       "    .dataframe tbody tr th:only-of-type {\n",
       "        vertical-align: middle;\n",
       "    }\n",
       "\n",
       "    .dataframe tbody tr th {\n",
       "        vertical-align: top;\n",
       "    }\n",
       "\n",
       "    .dataframe thead th {\n",
       "        text-align: right;\n",
       "    }\n",
       "</style>\n",
       "<table border=\"1\" class=\"dataframe\">\n",
       "  <thead>\n",
       "    <tr style=\"text-align: right;\">\n",
       "      <th></th>\n",
       "      <th>y</th>\n",
       "      <th>x1</th>\n",
       "      <th>x2</th>\n",
       "      <th>x3</th>\n",
       "      <th>x4</th>\n",
       "      <th>x5</th>\n",
       "      <th>x6</th>\n",
       "      <th>x7</th>\n",
       "      <th>x8</th>\n",
       "      <th>x9</th>\n",
       "      <th>x10</th>\n",
       "    </tr>\n",
       "  </thead>\n",
       "  <tbody>\n",
       "    <tr>\n",
       "      <th>0</th>\n",
       "      <td>106</td>\n",
       "      <td>18.3</td>\n",
       "      <td>21.9</td>\n",
       "      <td>22.9</td>\n",
       "      <td>5</td>\n",
       "      <td>6</td>\n",
       "      <td>8</td>\n",
       "      <td>1.2856</td>\n",
       "      <td>-2.2981</td>\n",
       "      <td>-3.9392</td>\n",
       "      <td>101</td>\n",
       "    </tr>\n",
       "    <tr>\n",
       "      <th>1</th>\n",
       "      <td>60</td>\n",
       "      <td>13.7</td>\n",
       "      <td>14.0</td>\n",
       "      <td>15.8</td>\n",
       "      <td>4</td>\n",
       "      <td>5</td>\n",
       "      <td>4</td>\n",
       "      <td>0.0000</td>\n",
       "      <td>3.2139</td>\n",
       "      <td>0.0000</td>\n",
       "      <td>71</td>\n",
       "    </tr>\n",
       "    <tr>\n",
       "      <th>2</th>\n",
       "      <td>72</td>\n",
       "      <td>19.9</td>\n",
       "      <td>21.6</td>\n",
       "      <td>20.4</td>\n",
       "      <td>7</td>\n",
       "      <td>7</td>\n",
       "      <td>8</td>\n",
       "      <td>-3.0000</td>\n",
       "      <td>-4.5963</td>\n",
       "      <td>-5.1962</td>\n",
       "      <td>65</td>\n",
       "    </tr>\n",
       "    <tr>\n",
       "      <th>3</th>\n",
       "      <td>72</td>\n",
       "      <td>18.1</td>\n",
       "      <td>21.2</td>\n",
       "      <td>23.9</td>\n",
       "      <td>7</td>\n",
       "      <td>6</td>\n",
       "      <td>4</td>\n",
       "      <td>-2.5981</td>\n",
       "      <td>-3.9392</td>\n",
       "      <td>-3.7588</td>\n",
       "      <td>113</td>\n",
       "    </tr>\n",
       "    <tr>\n",
       "      <th>4</th>\n",
       "      <td>97</td>\n",
       "      <td>20.8</td>\n",
       "      <td>23.7</td>\n",
       "      <td>25.0</td>\n",
       "      <td>2</td>\n",
       "      <td>3</td>\n",
       "      <td>4</td>\n",
       "      <td>0.0000</td>\n",
       "      <td>1.7101</td>\n",
       "      <td>-2.7362</td>\n",
       "      <td>93</td>\n",
       "    </tr>\n",
       "    <tr>\n",
       "      <th>5</th>\n",
       "      <td>59</td>\n",
       "      <td>18.3</td>\n",
       "      <td>18.3</td>\n",
       "      <td>19.0</td>\n",
       "      <td>7</td>\n",
       "      <td>7</td>\n",
       "      <td>7</td>\n",
       "      <td>-3.9392</td>\n",
       "      <td>-1.9284</td>\n",
       "      <td>-1.7101</td>\n",
       "      <td>66</td>\n",
       "    </tr>\n",
       "    <tr>\n",
       "      <th>6</th>\n",
       "      <td>70</td>\n",
       "      <td>17.1</td>\n",
       "      <td>18.2</td>\n",
       "      <td>18.0</td>\n",
       "      <td>7</td>\n",
       "      <td>7</td>\n",
       "      <td>7</td>\n",
       "      <td>-4.3301</td>\n",
       "      <td>-7.8785</td>\n",
       "      <td>-5.1962</td>\n",
       "      <td>72</td>\n",
       "    </tr>\n",
       "    <tr>\n",
       "      <th>7</th>\n",
       "      <td>81</td>\n",
       "      <td>19.6</td>\n",
       "      <td>25.1</td>\n",
       "      <td>27.2</td>\n",
       "      <td>3</td>\n",
       "      <td>4</td>\n",
       "      <td>4</td>\n",
       "      <td>-1.9284</td>\n",
       "      <td>-2.5712</td>\n",
       "      <td>-4.3301</td>\n",
       "      <td>57</td>\n",
       "    </tr>\n",
       "    <tr>\n",
       "      <th>8</th>\n",
       "      <td>146</td>\n",
       "      <td>27.0</td>\n",
       "      <td>32.7</td>\n",
       "      <td>33.7</td>\n",
       "      <td>0</td>\n",
       "      <td>0</td>\n",
       "      <td>0</td>\n",
       "      <td>2.9544</td>\n",
       "      <td>6.5778</td>\n",
       "      <td>4.3301</td>\n",
       "      <td>121</td>\n",
       "    </tr>\n",
       "    <tr>\n",
       "      <th>9</th>\n",
       "      <td>78</td>\n",
       "      <td>17.7</td>\n",
       "      <td>20.2</td>\n",
       "      <td>21.5</td>\n",
       "      <td>5</td>\n",
       "      <td>5</td>\n",
       "      <td>3</td>\n",
       "      <td>0.0000</td>\n",
       "      <td>0.5209</td>\n",
       "      <td>0.0000</td>\n",
       "      <td>59</td>\n",
       "    </tr>\n",
       "  </tbody>\n",
       "</table>\n",
       "</div>"
      ],
      "text/plain": [
       "     y    x1    x2    x3  x4  x5  x6      x7      x8      x9  x10\n",
       "0  106  18.3  21.9  22.9   5   6   8  1.2856 -2.2981 -3.9392  101\n",
       "1   60  13.7  14.0  15.8   4   5   4  0.0000  3.2139  0.0000   71\n",
       "2   72  19.9  21.6  20.4   7   7   8 -3.0000 -4.5963 -5.1962   65\n",
       "3   72  18.1  21.2  23.9   7   6   4 -2.5981 -3.9392 -3.7588  113\n",
       "4   97  20.8  23.7  25.0   2   3   4  0.0000  1.7101 -2.7362   93\n",
       "5   59  18.3  18.3  19.0   7   7   7 -3.9392 -1.9284 -1.7101   66\n",
       "6   70  17.1  18.2  18.0   7   7   7 -4.3301 -7.8785 -5.1962   72\n",
       "7   81  19.6  25.1  27.2   3   4   4 -1.9284 -2.5712 -4.3301   57\n",
       "8  146  27.0  32.7  33.7   0   0   0  2.9544  6.5778  4.3301  121\n",
       "9   78  17.7  20.2  21.5   5   5   3  0.0000  0.5209  0.0000   59"
      ]
     },
     "execution_count": 28,
     "metadata": {},
     "output_type": "execute_result"
    }
   ],
   "source": [
    "# Let's load these new individuals.\n",
    "ozone_new = pd.read_csv('ozone_n.txt', sep = ' ')\n",
    "ozone_new"
   ]
  },
  {
   "cell_type": "code",
   "execution_count": 17,
   "metadata": {},
   "outputs": [
    {
     "data": {
      "text/plain": [
       "0     90.440598\n",
       "1     59.409146\n",
       "2    101.234147\n",
       "3     89.091404\n",
       "4    107.305518\n",
       "5     90.440598\n",
       "6     82.345437\n",
       "7     99.210356\n",
       "8    149.130518\n",
       "9     86.393017\n",
       "dtype: float64"
      ]
     },
     "execution_count": 17,
     "metadata": {},
     "output_type": "execute_result"
    }
   ],
   "source": [
    "# I show you here how to predict the values of new data using a model\n",
    "# First, we will fit a model to predict y using x1 with the ozone data as before (we don't use the new individuals to fit the model)\n",
    "X = ozone.iloc[:,1] \n",
    "X = sm.add_constant(X) \n",
    "Y = ozone['y']\n",
    "model = sm.OLS(Y, X).fit() \n",
    "# Then, we will prepare the new data so that it is under the same form as the data used to create the model,\n",
    "# i.e. one constant column and one column with x1 values for the new data\n",
    "X_new = ozone_new.iloc[:,1] # only the x1 column of the new dataset\n",
    "X_new = sm.add_constant(X_new) # add the constant column\n",
    "# and then we can easily predict y for this new dataset:\n",
    "model.predict(X_new)\n",
    "# You can see the predictions for the 10 individuals of ozone_new"
   ]
  },
  {
   "cell_type": "raw",
   "metadata": {},
   "source": [
    "Question : What is the mean squared error of these predictions ?"
   ]
  },
  {
   "cell_type": "code",
   "execution_count": 18,
   "metadata": {},
   "outputs": [
    {
     "name": "stdout",
     "output_type": "stream",
     "text": [
      "Mean Squared Error of the predictions: 304.8180\n"
     ]
    }
   ],
   "source": [
    "# Predictions for the new dataset using the model\n",
    "predictions = model.predict(X_new)\n",
    "\n",
    "# Actual values from the new dataset\n",
    "actual_values = ozone_new['y']\n",
    "\n",
    "# Compute the mean squared error\n",
    "mse = np.mean((actual_values - predictions) ** 2)\n",
    "print(f\"Mean Squared Error of the predictions: {mse:.4f}\")"
   ]
  },
  {
   "cell_type": "raw",
   "metadata": {},
   "source": [
    "Question : Do the same for the best model that you found above, and compare the mean squared errors of the 2 models."
   ]
  },
  {
   "cell_type": "code",
   "execution_count": 19,
   "metadata": {},
   "outputs": [
    {
     "name": "stdout",
     "output_type": "stream",
     "text": [
      "Mean Squared Error of the best model (x2): 2161.2276\n",
      "The model using x1 has a lower MSE and performs better.\n"
     ]
    }
   ],
   "source": [
    "# Prepare the new data for the best model (using x2)\n",
    "X_new_best = ozone_new[['x2']]  # Select x2 as the predictive variable\n",
    "X_new_best = sm.add_constant(X_new_best)  # Add a constant column\n",
    "\n",
    "# Predict using the best model\n",
    "predictions_best = model_var.predict(X_new_best)\n",
    "\n",
    "# Compute the mean squared error for the best model\n",
    "mse_best = np.mean((actual_values - predictions_best) ** 2)\n",
    "print(f\"Mean Squared Error of the best model (x2): {mse_best:.4f}\")\n",
    "\n",
    "# Compare the MSEs\n",
    "if mse < mse_best:\n",
    "    print(\"The model using x1 has a lower MSE and performs better.\")\n",
    "else:\n",
    "    print(\"The model using x2 has a lower MSE and performs better.\")"
   ]
  },
  {
   "cell_type": "markdown",
   "metadata": {},
   "source": [
    "## Exercise 2: Multiple regression to predict y"
   ]
  },
  {
   "cell_type": "raw",
   "metadata": {},
   "source": [
    "We will now apply multiple regression (more than one predictive variable) to predict y. To perform multiple regression, we can use the OLS function as before but we just need to put more variables in the X dataframe used as input to OLS.\n",
    "For instance, below we will create a model to predict y using x2 and x1"
   ]
  },
  {
   "cell_type": "code",
   "execution_count": 20,
   "metadata": {},
   "outputs": [
    {
     "data": {
      "text/html": [
       "<table class=\"simpletable\">\n",
       "<caption>OLS Regression Results</caption>\n",
       "<tr>\n",
       "  <th>Dep. Variable:</th>            <td>y</td>        <th>  R-squared:         </th> <td>   0.615</td>\n",
       "</tr>\n",
       "<tr>\n",
       "  <th>Model:</th>                   <td>OLS</td>       <th>  Adj. R-squared:    </th> <td>   0.608</td>\n",
       "</tr>\n",
       "<tr>\n",
       "  <th>Method:</th>             <td>Least Squares</td>  <th>  F-statistic:       </th> <td>   78.41</td>\n",
       "</tr>\n",
       "<tr>\n",
       "  <th>Date:</th>             <td>Wed, 09 Apr 2025</td> <th>  Prob (F-statistic):</th> <td>4.62e-21</td>\n",
       "</tr>\n",
       "<tr>\n",
       "  <th>Time:</th>                 <td>10:40:29</td>     <th>  Log-Likelihood:    </th> <td> -433.07</td>\n",
       "</tr>\n",
       "<tr>\n",
       "  <th>No. Observations:</th>      <td>   101</td>      <th>  AIC:               </th> <td>   872.1</td>\n",
       "</tr>\n",
       "<tr>\n",
       "  <th>Df Residuals:</th>          <td>    98</td>      <th>  BIC:               </th> <td>   880.0</td>\n",
       "</tr>\n",
       "<tr>\n",
       "  <th>Df Model:</th>              <td>     2</td>      <th>                     </th>     <td> </td>   \n",
       "</tr>\n",
       "<tr>\n",
       "  <th>Covariance Type:</th>      <td>nonrobust</td>    <th>                     </th>     <td> </td>   \n",
       "</tr>\n",
       "</table>\n",
       "<table class=\"simpletable\">\n",
       "<tr>\n",
       "    <td></td>       <th>coef</th>     <th>std err</th>      <th>t</th>      <th>P>|t|</th>  <th>[0.025</th>    <th>0.975]</th>  \n",
       "</tr>\n",
       "<tr>\n",
       "  <th>const</th> <td>  -33.8288</td> <td>   10.950</td> <td>   -3.089</td> <td> 0.003</td> <td>  -55.558</td> <td>  -12.100</td>\n",
       "</tr>\n",
       "<tr>\n",
       "  <th>x1</th>    <td>    1.0269</td> <td>    1.279</td> <td>    0.803</td> <td> 0.424</td> <td>   -1.512</td> <td>    3.566</td>\n",
       "</tr>\n",
       "<tr>\n",
       "  <th>x2</th>    <td>    4.9153</td> <td>    0.976</td> <td>    5.034</td> <td> 0.000</td> <td>    2.978</td> <td>    6.853</td>\n",
       "</tr>\n",
       "</table>\n",
       "<table class=\"simpletable\">\n",
       "<tr>\n",
       "  <th>Omnibus:</th>       <td> 0.676</td> <th>  Durbin-Watson:     </th> <td>   0.980</td>\n",
       "</tr>\n",
       "<tr>\n",
       "  <th>Prob(Omnibus):</th> <td> 0.713</td> <th>  Jarque-Bera (JB):  </th> <td>   0.806</td>\n",
       "</tr>\n",
       "<tr>\n",
       "  <th>Skew:</th>          <td> 0.163</td> <th>  Prob(JB):          </th> <td>   0.668</td>\n",
       "</tr>\n",
       "<tr>\n",
       "  <th>Kurtosis:</th>      <td> 2.708</td> <th>  Cond. No.          </th> <td>    177.</td>\n",
       "</tr>\n",
       "</table><br/><br/>Notes:<br/>[1] Standard Errors assume that the covariance matrix of the errors is correctly specified."
      ],
      "text/latex": [
       "\\begin{center}\n",
       "\\begin{tabular}{lclc}\n",
       "\\toprule\n",
       "\\textbf{Dep. Variable:}    &        y         & \\textbf{  R-squared:         } &     0.615   \\\\\n",
       "\\textbf{Model:}            &       OLS        & \\textbf{  Adj. R-squared:    } &     0.608   \\\\\n",
       "\\textbf{Method:}           &  Least Squares   & \\textbf{  F-statistic:       } &     78.41   \\\\\n",
       "\\textbf{Date:}             & Wed, 09 Apr 2025 & \\textbf{  Prob (F-statistic):} &  4.62e-21   \\\\\n",
       "\\textbf{Time:}             &     10:40:29     & \\textbf{  Log-Likelihood:    } &   -433.07   \\\\\n",
       "\\textbf{No. Observations:} &         101      & \\textbf{  AIC:               } &     872.1   \\\\\n",
       "\\textbf{Df Residuals:}     &          98      & \\textbf{  BIC:               } &     880.0   \\\\\n",
       "\\textbf{Df Model:}         &           2      & \\textbf{                     } &             \\\\\n",
       "\\textbf{Covariance Type:}  &    nonrobust     & \\textbf{                     } &             \\\\\n",
       "\\bottomrule\n",
       "\\end{tabular}\n",
       "\\begin{tabular}{lcccccc}\n",
       "               & \\textbf{coef} & \\textbf{std err} & \\textbf{t} & \\textbf{P$> |$t$|$} & \\textbf{[0.025} & \\textbf{0.975]}  \\\\\n",
       "\\midrule\n",
       "\\textbf{const} &     -33.8288  &       10.950     &    -3.089  &         0.003        &      -55.558    &      -12.100     \\\\\n",
       "\\textbf{x1}    &       1.0269  &        1.279     &     0.803  &         0.424        &       -1.512    &        3.566     \\\\\n",
       "\\textbf{x2}    &       4.9153  &        0.976     &     5.034  &         0.000        &        2.978    &        6.853     \\\\\n",
       "\\bottomrule\n",
       "\\end{tabular}\n",
       "\\begin{tabular}{lclc}\n",
       "\\textbf{Omnibus:}       &  0.676 & \\textbf{  Durbin-Watson:     } &    0.980  \\\\\n",
       "\\textbf{Prob(Omnibus):} &  0.713 & \\textbf{  Jarque-Bera (JB):  } &    0.806  \\\\\n",
       "\\textbf{Skew:}          &  0.163 & \\textbf{  Prob(JB):          } &    0.668  \\\\\n",
       "\\textbf{Kurtosis:}      &  2.708 & \\textbf{  Cond. No.          } &     177.  \\\\\n",
       "\\bottomrule\n",
       "\\end{tabular}\n",
       "%\\caption{OLS Regression Results}\n",
       "\\end{center}\n",
       "\n",
       "Notes: \\newline\n",
       " [1] Standard Errors assume that the covariance matrix of the errors is correctly specified."
      ],
      "text/plain": [
       "<class 'statsmodels.iolib.summary.Summary'>\n",
       "\"\"\"\n",
       "                            OLS Regression Results                            \n",
       "==============================================================================\n",
       "Dep. Variable:                      y   R-squared:                       0.615\n",
       "Model:                            OLS   Adj. R-squared:                  0.608\n",
       "Method:                 Least Squares   F-statistic:                     78.41\n",
       "Date:                Wed, 09 Apr 2025   Prob (F-statistic):           4.62e-21\n",
       "Time:                        10:40:29   Log-Likelihood:                -433.07\n",
       "No. Observations:                 101   AIC:                             872.1\n",
       "Df Residuals:                      98   BIC:                             880.0\n",
       "Df Model:                           2                                         \n",
       "Covariance Type:            nonrobust                                         \n",
       "==============================================================================\n",
       "                 coef    std err          t      P>|t|      [0.025      0.975]\n",
       "------------------------------------------------------------------------------\n",
       "const        -33.8288     10.950     -3.089      0.003     -55.558     -12.100\n",
       "x1             1.0269      1.279      0.803      0.424      -1.512       3.566\n",
       "x2             4.9153      0.976      5.034      0.000       2.978       6.853\n",
       "==============================================================================\n",
       "Omnibus:                        0.676   Durbin-Watson:                   0.980\n",
       "Prob(Omnibus):                  0.713   Jarque-Bera (JB):                0.806\n",
       "Skew:                           0.163   Prob(JB):                        0.668\n",
       "Kurtosis:                       2.708   Cond. No.                         177.\n",
       "==============================================================================\n",
       "\n",
       "Notes:\n",
       "[1] Standard Errors assume that the covariance matrix of the errors is correctly specified.\n",
       "\"\"\""
      ]
     },
     "execution_count": 20,
     "metadata": {},
     "output_type": "execute_result"
    }
   ],
   "source": [
    "X = ozone.iloc[:,[1,2]] # select columns of index 1 and 2 (i.e. x1 and x2)\n",
    "X = sm.add_constant(X)\n",
    "Y = ozone['y']\n",
    "model = sm.OLS(Y,X).fit()\n",
    "model.summary()"
   ]
  },
  {
   "cell_type": "raw",
   "metadata": {},
   "source": [
    "Questions : \n",
    "    - What is the equation of the model ?\n",
    "    - What is the result of the Student's test on x1 ? What does it mean ?\n",
    "    - What is the R^2 of this model ? Compare it with the model where x2 is alone to predict y. Conclusion\n",
    "    - What is I_r for this model ? Compare it with the model where x2 is alone to predict y. Conclusion"
   ]
  },
  {
   "cell_type": "code",
   "execution_count": null,
   "metadata": {},
   "outputs": [],
   "source": [
    "# Equation of the model\n",
    "beta_0 = model.params['const']  # Intercept\n",
    "beta_1 = model.params['x1']     # Coefficient for x1\n",
    "beta_2 = model.params['x2']     # Coefficient for x2\n",
    "print(f\"The equation of the model is: y = {beta_0:.2f} + {beta_1:.2f} * x1 + {beta_2:.2f} * x2\")\n",
    "\n",
    "# Result of the Student's test on x1\n",
    "p_value_x1 = model.pvalues['x1']\n",
    "print(f\"Student's test p-value for x1: {p_value_x1:.4e}\")\n",
    "if p_value_x1 < 0.05:\n",
    "    print(\"x1 has a statistically significant influence on y.\")\n",
    "else:\n",
    "    print(\"x1 does not have a statistically significant influence on y.\")\n",
    "\n",
    "# R^2 of the model\n",
    "r_squared_combined = model.rsquared\n",
    "print(f\"R^2 of the model: {r_squared_combined:.4f}\")\n",
    "print(f\"R^2 of the model using x2 alone: {best_r_squared:.4f}\")\n",
    "if r_squared_combined > best_r_squared:\n",
    "    print(\"The combined model (x1 and x2) explains more variance in y than the model using x2 alone.\")\n",
    "else:\n",
    "    print(\"The model using x2 alone explains more variance in y than the combined model (x1 and x2).\")\n",
    "\n",
    "# I_r for the model\n",
    "I_r_combined = np.sum(model.resid ** 2)\n",
    "print(f\"I_r of the model: {I_r_combined:.4f}\")\n",
    "print(f\"I_r of the model using x2 alone: {best_I_r:.4f}\")\n",
    "if I_r_combined < best_I_r:\n",
    "    print(\"The combined model (x1 and x2) has lower residual error than the model using x2 alone.\")\n",
    "else:\n",
    "    print(\"The model using x2 alone has lower residual error than the combined model (x1 and x2).\")"
   ]
  },
  {
   "cell_type": "raw",
   "metadata": {},
   "source": [
    "Question : Use this model to predict the 10 new individuals (of the ozone_new dataset) and compute the mean square prediction error. Conclusion ?"
   ]
  },
  {
   "cell_type": "code",
   "execution_count": 21,
   "metadata": {},
   "outputs": [
    {
     "name": "stdout",
     "output_type": "stream",
     "text": [
      "Mean Squared Prediction Error of the combined model (x1 and x2): 225.9460\n",
      "The combined model (x1 and x2) performs better than the model using x2 alone.\n"
     ]
    }
   ],
   "source": [
    "# Prepare the new data for the model (using x1 and x2)\n",
    "X_new_combined = ozone_new[['x1', 'x2']]  # Select x1 and x2 as predictive variables\n",
    "X_new_combined = sm.add_constant(X_new_combined)  # Add a constant column\n",
    "\n",
    "# Predict using the combined model\n",
    "predictions_combined = model.predict(X_new_combined)\n",
    "\n",
    "# Compute the mean squared prediction error for the combined model\n",
    "mse_combined = np.mean((ozone_new['y'] - predictions_combined) ** 2)\n",
    "print(f\"Mean Squared Prediction Error of the combined model (x1 and x2): {mse_combined:.4f}\")\n",
    "\n",
    "# Conclusion\n",
    "if mse_combined < mse_best:\n",
    "    print(\"The combined model (x1 and x2) performs better than the model using x2 alone.\")\n",
    "else:\n",
    "    print(\"The model using x2 alone performs better than the combined model (x1 and x2).\")"
   ]
  },
  {
   "cell_type": "raw",
   "metadata": {},
   "source": [
    "You should conclude that the model with x1 and x2 is worse than x2 alone (to predict these new individuals), but the R^2 and I_r said that x1 and x2 is better than x2 alone.\n",
    "This is the problem I explained in the CM : R^2 and I_r are always in favor of models with more variables (even if you add variables completely independant of the target variable) and they do not ensure that a model will be good to predict new indiviuals.\n",
    "That's why a better criterion is the estimation of the generalization error. \n",
    "In the next exercice, we will apply the train / test split strategy to estimate this generalization error."
   ]
  },
  {
   "cell_type": "markdown",
   "metadata": {},
   "source": [
    "## Exercise 3 : Estimation of the generalization error by train / test split."
   ]
  },
  {
   "cell_type": "raw",
   "metadata": {},
   "source": [
    "Before going with the train/test split, I advice you to create two functions that might help you with easily creating regression models and computing predictions.\n",
    "1) Define a function 'my_regression(data, idx_p, idx_t)'. The aim of this function is to create, using a dataset 'data', a regression model to predict the variable whose column index is 'idx_t' (index target) using the variables whose column indexes are in 'idx_p' (index predictive). \n",
    "For instance, the call my_regression(ozone, [2], 0)' should create the model to predict y (column 0 of ozone) using x2 (column 2 of ozone).\n",
    "And the call my_regression(ozone, [1,2], 0) should create the model to predict y (column 0 of ozone) using x1 and x2 (columns 1 and 2 of ozone).\n",
    "You have already done this kind of things you just have to wrap everything up in a function. The idea of this function is to have a simple ang generic way to create different models, without having to create the X, add a constant, create the Y and call the OLS each time you need to fit a model."
   ]
  },
  {
   "cell_type": "code",
   "execution_count": 1,
   "metadata": {},
   "outputs": [],
   "source": [
    "import statsmodels.api as sm\n",
    "\n",
    "def my_regression(data, idx_p, idx_t):\n",
    "    \"\"\"\n",
    "    Create a regression model to predict the target variable using specified predictive variables.\n",
    "\n",
    "    Parameters:\n",
    "    data (pd.DataFrame): The dataset containing the variables.\n",
    "    idx_p (list): List of column indexes for predictive variables.\n",
    "    idx_t (int): Column index for the target variable.\n",
    "\n",
    "    Returns:\n",
    "    statsmodels.regression.linear_model.RegressionResultsWrapper: The fitted regression model.\n",
    "    \"\"\"\n",
    "    # Select predictive variables and add a constant column\n",
    "    X = data.iloc[:, idx_p]\n",
    "    X = sm.add_constant(X)\n",
    "    \n",
    "    # Select the target variable\n",
    "    Y = data.iloc[:, idx_t]\n",
    "    \n",
    "    # Fit the regression model\n",
    "    model = sm.OLS(Y, X).fit()\n",
    "    \n",
    "    return model"
   ]
  },
  {
   "cell_type": "raw",
   "metadata": {},
   "source": [
    "2) Create a function 'my_prediction(my_model, data)' that returns the predictions made by the model 'my_model'\n",
    "for the individuals of the dataset 'data'. \n",
    "Be careful, you need to select the columns of the dataset 'data' that the model 'my_model' needs (i.e. the ones that were used to create the model).\n",
    "For that, you can find the names of the predictive variables of 'my_model' by the command my_model.model.exog_names, and then you have to select the columns having these names (by a .loc on data)\n",
    "Don't forget to add a constant to the data before the predictions (as in the exemple a few cells above)"
   ]
  },
  {
   "cell_type": "code",
   "execution_count": 3,
   "metadata": {},
   "outputs": [],
   "source": [
    "def my_prediction(my_model, data):\n",
    "    \"\"\"\n",
    "    Generate predictions using the given regression model for the provided dataset.\n",
    "\n",
    "    Parameters:\n",
    "    my_model (statsmodels.regression.linear_model.RegressionResultsWrapper): The regression model.\n",
    "    data (pd.DataFrame): The dataset containing the variables.\n",
    "\n",
    "    Returns:\n",
    "    np.ndarray: Predictions made by the model.\n",
    "    \"\"\"\n",
    "    # Get the names of the predictive variables used in the model\n",
    "    predictive_vars = my_model.model.exog_names\n",
    "    \n",
    "    # Select the corresponding columns from the dataset\n",
    "    # Ensure to exclude 'const' as it is added separately\n",
    "    if 'const' in predictive_vars:\n",
    "        predictive_vars.remove('const')\n",
    "    X_new = data.loc[:, predictive_vars]\n",
    "    \n",
    "    # Add a constant column to the dataset\n",
    "    X_new = sm.add_constant(X_new)\n",
    "    \n",
    "    # Generate predictions\n",
    "    predictions = my_model.predict(X_new)\n",
    "    \n",
    "    return predictions "
   ]
  },
  {
   "cell_type": "code",
   "execution_count": null,
   "metadata": {},
   "outputs": [],
   "source": []
  },
  {
   "cell_type": "raw",
   "metadata": {},
   "source": [
    "3) Try to use your functions to create a regression model using ozone (with predictive variables of your choice) and then use this model to predict the individuals of ozone_new"
   ]
  },
  {
   "cell_type": "code",
   "execution_count": null,
   "metadata": {},
   "outputs": [
    {
     "name": "stdout",
     "output_type": "stream",
     "text": [
      "Predictions for ozone_new using x2 and x3:\n",
      "0     92.662833\n",
      "1     50.977049\n",
      "2     86.655888\n",
      "3     92.200491\n",
      "4    103.117455\n",
      "5     72.348636\n",
      "6     70.015739\n",
      "7    112.372807\n",
      "8    151.820282\n",
      "9     83.946060\n",
      "dtype: float64\n"
     ]
    }
   ],
   "source": [
    "\n",
    "# Create a regression model using x2 and x3 as predictive variables\n",
    "model_x2_x3 = my_regression(ozone, [2, 3], 0)\n",
    "\n",
    "# Use the model to predict the individuals of ozone_new\n",
    "predictions_ozone_new = my_prediction(model_x2_x3, ozone_new)\n",
    "\n",
    "# Display the predictions\n",
    "print(\"Predictions for ozone_new using x2 and x3:\")\n",
    "print(predictions_ozone_new)"
   ]
  },
  {
   "cell_type": "code",
   "execution_count": null,
   "metadata": {},
   "outputs": [],
   "source": []
  },
  {
   "cell_type": "raw",
   "metadata": {},
   "source": [
    "4) Now we will see how to do a train / test split to estimate the generalization error of a regression model.\n",
    "First we will combine our two datasets (ozone and ozone_new in a single one). In a real prediction setting, you'll get one complete dataset (with predictive variables and a target one)."
   ]
  },
  {
   "cell_type": "code",
   "execution_count": 30,
   "metadata": {},
   "outputs": [
    {
     "data": {
      "text/html": [
       "<div>\n",
       "<style scoped>\n",
       "    .dataframe tbody tr th:only-of-type {\n",
       "        vertical-align: middle;\n",
       "    }\n",
       "\n",
       "    .dataframe tbody tr th {\n",
       "        vertical-align: top;\n",
       "    }\n",
       "\n",
       "    .dataframe thead th {\n",
       "        text-align: right;\n",
       "    }\n",
       "</style>\n",
       "<table border=\"1\" class=\"dataframe\">\n",
       "  <thead>\n",
       "    <tr style=\"text-align: right;\">\n",
       "      <th></th>\n",
       "      <th>y</th>\n",
       "      <th>x1</th>\n",
       "      <th>x2</th>\n",
       "      <th>x3</th>\n",
       "      <th>x4</th>\n",
       "      <th>x5</th>\n",
       "      <th>x6</th>\n",
       "      <th>x7</th>\n",
       "      <th>x8</th>\n",
       "      <th>x9</th>\n",
       "      <th>x10</th>\n",
       "    </tr>\n",
       "  </thead>\n",
       "  <tbody>\n",
       "    <tr>\n",
       "      <th>0</th>\n",
       "      <td>87</td>\n",
       "      <td>15.6</td>\n",
       "      <td>18.5</td>\n",
       "      <td>18.4</td>\n",
       "      <td>4</td>\n",
       "      <td>4</td>\n",
       "      <td>8</td>\n",
       "      <td>0.6946</td>\n",
       "      <td>-1.7101</td>\n",
       "      <td>-0.6946</td>\n",
       "      <td>84</td>\n",
       "    </tr>\n",
       "    <tr>\n",
       "      <th>1</th>\n",
       "      <td>82</td>\n",
       "      <td>17.0</td>\n",
       "      <td>18.4</td>\n",
       "      <td>17.7</td>\n",
       "      <td>5</td>\n",
       "      <td>5</td>\n",
       "      <td>7</td>\n",
       "      <td>-4.3301</td>\n",
       "      <td>-4.0000</td>\n",
       "      <td>-3.0000</td>\n",
       "      <td>87</td>\n",
       "    </tr>\n",
       "    <tr>\n",
       "      <th>2</th>\n",
       "      <td>92</td>\n",
       "      <td>15.3</td>\n",
       "      <td>17.6</td>\n",
       "      <td>19.5</td>\n",
       "      <td>2</td>\n",
       "      <td>5</td>\n",
       "      <td>4</td>\n",
       "      <td>2.9544</td>\n",
       "      <td>1.8794</td>\n",
       "      <td>0.5209</td>\n",
       "      <td>82</td>\n",
       "    </tr>\n",
       "    <tr>\n",
       "      <th>3</th>\n",
       "      <td>114</td>\n",
       "      <td>16.2</td>\n",
       "      <td>19.7</td>\n",
       "      <td>22.5</td>\n",
       "      <td>1</td>\n",
       "      <td>1</td>\n",
       "      <td>0</td>\n",
       "      <td>0.9848</td>\n",
       "      <td>0.3473</td>\n",
       "      <td>-0.1736</td>\n",
       "      <td>92</td>\n",
       "    </tr>\n",
       "    <tr>\n",
       "      <th>4</th>\n",
       "      <td>94</td>\n",
       "      <td>17.4</td>\n",
       "      <td>20.5</td>\n",
       "      <td>20.4</td>\n",
       "      <td>8</td>\n",
       "      <td>8</td>\n",
       "      <td>7</td>\n",
       "      <td>-0.5000</td>\n",
       "      <td>-2.9544</td>\n",
       "      <td>-4.3301</td>\n",
       "      <td>114</td>\n",
       "    </tr>\n",
       "    <tr>\n",
       "      <th>...</th>\n",
       "      <td>...</td>\n",
       "      <td>...</td>\n",
       "      <td>...</td>\n",
       "      <td>...</td>\n",
       "      <td>...</td>\n",
       "      <td>...</td>\n",
       "      <td>...</td>\n",
       "      <td>...</td>\n",
       "      <td>...</td>\n",
       "      <td>...</td>\n",
       "      <td>...</td>\n",
       "    </tr>\n",
       "    <tr>\n",
       "      <th>106</th>\n",
       "      <td>59</td>\n",
       "      <td>18.3</td>\n",
       "      <td>18.3</td>\n",
       "      <td>19.0</td>\n",
       "      <td>7</td>\n",
       "      <td>7</td>\n",
       "      <td>7</td>\n",
       "      <td>-3.9392</td>\n",
       "      <td>-1.9284</td>\n",
       "      <td>-1.7101</td>\n",
       "      <td>66</td>\n",
       "    </tr>\n",
       "    <tr>\n",
       "      <th>107</th>\n",
       "      <td>70</td>\n",
       "      <td>17.1</td>\n",
       "      <td>18.2</td>\n",
       "      <td>18.0</td>\n",
       "      <td>7</td>\n",
       "      <td>7</td>\n",
       "      <td>7</td>\n",
       "      <td>-4.3301</td>\n",
       "      <td>-7.8785</td>\n",
       "      <td>-5.1962</td>\n",
       "      <td>72</td>\n",
       "    </tr>\n",
       "    <tr>\n",
       "      <th>108</th>\n",
       "      <td>81</td>\n",
       "      <td>19.6</td>\n",
       "      <td>25.1</td>\n",
       "      <td>27.2</td>\n",
       "      <td>3</td>\n",
       "      <td>4</td>\n",
       "      <td>4</td>\n",
       "      <td>-1.9284</td>\n",
       "      <td>-2.5712</td>\n",
       "      <td>-4.3301</td>\n",
       "      <td>57</td>\n",
       "    </tr>\n",
       "    <tr>\n",
       "      <th>109</th>\n",
       "      <td>146</td>\n",
       "      <td>27.0</td>\n",
       "      <td>32.7</td>\n",
       "      <td>33.7</td>\n",
       "      <td>0</td>\n",
       "      <td>0</td>\n",
       "      <td>0</td>\n",
       "      <td>2.9544</td>\n",
       "      <td>6.5778</td>\n",
       "      <td>4.3301</td>\n",
       "      <td>121</td>\n",
       "    </tr>\n",
       "    <tr>\n",
       "      <th>110</th>\n",
       "      <td>78</td>\n",
       "      <td>17.7</td>\n",
       "      <td>20.2</td>\n",
       "      <td>21.5</td>\n",
       "      <td>5</td>\n",
       "      <td>5</td>\n",
       "      <td>3</td>\n",
       "      <td>0.0000</td>\n",
       "      <td>0.5209</td>\n",
       "      <td>0.0000</td>\n",
       "      <td>59</td>\n",
       "    </tr>\n",
       "  </tbody>\n",
       "</table>\n",
       "<p>111 rows × 11 columns</p>\n",
       "</div>"
      ],
      "text/plain": [
       "       y    x1    x2    x3  x4  x5  x6      x7      x8      x9  x10\n",
       "0     87  15.6  18.5  18.4   4   4   8  0.6946 -1.7101 -0.6946   84\n",
       "1     82  17.0  18.4  17.7   5   5   7 -4.3301 -4.0000 -3.0000   87\n",
       "2     92  15.3  17.6  19.5   2   5   4  2.9544  1.8794  0.5209   82\n",
       "3    114  16.2  19.7  22.5   1   1   0  0.9848  0.3473 -0.1736   92\n",
       "4     94  17.4  20.5  20.4   8   8   7 -0.5000 -2.9544 -4.3301  114\n",
       "..   ...   ...   ...   ...  ..  ..  ..     ...     ...     ...  ...\n",
       "106   59  18.3  18.3  19.0   7   7   7 -3.9392 -1.9284 -1.7101   66\n",
       "107   70  17.1  18.2  18.0   7   7   7 -4.3301 -7.8785 -5.1962   72\n",
       "108   81  19.6  25.1  27.2   3   4   4 -1.9284 -2.5712 -4.3301   57\n",
       "109  146  27.0  32.7  33.7   0   0   0  2.9544  6.5778  4.3301  121\n",
       "110   78  17.7  20.2  21.5   5   5   3  0.0000  0.5209  0.0000   59\n",
       "\n",
       "[111 rows x 11 columns]"
      ]
     },
     "execution_count": 30,
     "metadata": {},
     "output_type": "execute_result"
    }
   ],
   "source": [
    "ozone = pd.concat([ozone, ozone_new], ignore_index=True)\n",
    "ozone\n",
    "# We now have 111 rows (101 + 10)"
   ]
  },
  {
   "cell_type": "raw",
   "metadata": {},
   "source": [
    "We now need to split ozone into two datasets : train and test with about 75% of ozone into train and 25% into test (randomly). There is a function that can do this automatically in the package sklearn : "
   ]
  },
  {
   "cell_type": "code",
   "execution_count": 31,
   "metadata": {},
   "outputs": [],
   "source": [
    "from sklearn.model_selection import train_test_split\n",
    "train , test = train_test_split(ozone, test_size = 0.25) \n",
    "# just need to give the input dataset (ozone here) and the fraction that you want in the test set (25% here)\n",
    "# the two created datasets are called train and test as we have asked"
   ]
  },
  {
   "cell_type": "raw",
   "metadata": {},
   "source": [
    "Check that the dimensions of train and test are as expected"
   ]
  },
  {
   "cell_type": "code",
   "execution_count": 32,
   "metadata": {},
   "outputs": [
    {
     "name": "stdout",
     "output_type": "stream",
     "text": [
      "Train dataset dimensions: (83, 11)\n",
      "Test dataset dimensions: (28, 11)\n"
     ]
    }
   ],
   "source": [
    "# Check dimensions of train and test datasets\n",
    "print(f\"Train dataset dimensions: {train.shape}\")\n",
    "print(f\"Test dataset dimensions: {test.shape}\")"
   ]
  },
  {
   "cell_type": "code",
   "execution_count": null,
   "metadata": {},
   "outputs": [],
   "source": []
  },
  {
   "cell_type": "raw",
   "metadata": {},
   "source": [
    "To be able to compare the results that you will obtain with the ones that I have obtained, we need to have the \n",
    "same train / test split. For this, you can set a parameter 'random_state = 20' in the train_test_split function (I have also used random_state = 20)"
   ]
  },
  {
   "cell_type": "code",
   "execution_count": 19,
   "metadata": {},
   "outputs": [],
   "source": [
    "train , test = train_test_split(ozone, test_size = 0.25, random_state = 20) \n",
    "# now we will use these train and test sets until the end of this TP (unless specified)"
   ]
  },
  {
   "cell_type": "raw",
   "metadata": {},
   "source": [
    "You can now easily estimate the generalization error of a regression model using the procedure shown in the CM:\n",
    " - fit a regression model with the train data (with predictive variables that you want)\n",
    " - predict using this model the individuals of the test set\n",
    " - compute the mean squared error of these predictions : it is the estimation of the generalization error\n",
    "Question : write a function 'generalization_error_split(train, test, idx_p, idx_t)' that estimates the generaliztion error by a train / test split procedure (with the train and test sets given in parameters) for a regression model that uses the variables in the columns of index idx_p to predict the target variable of index idx_t (in the datasets)\n",
    "Hint : with the functions my_regression and my_predictions above, it is quite easy\n",
    "Apply it to estimate the generalization error of a regression model that predicts y using x1."
   ]
  },
  {
   "cell_type": "code",
   "execution_count": null,
   "metadata": {},
   "outputs": [],
   "source": []
  },
  {
   "cell_type": "code",
   "execution_count": null,
   "metadata": {},
   "outputs": [],
   "source": []
  },
  {
   "cell_type": "raw",
   "metadata": {},
   "source": [
    "5) What is the best single variable to predict y ? What is the estimation of the generalization error of such a model ?"
   ]
  },
  {
   "cell_type": "code",
   "execution_count": null,
   "metadata": {},
   "outputs": [],
   "source": []
  },
  {
   "cell_type": "raw",
   "metadata": {},
   "source": [
    "6) Is the model using variables x2 and x3 better than the one using x2 only ?"
   ]
  },
  {
   "cell_type": "code",
   "execution_count": null,
   "metadata": {},
   "outputs": [],
   "source": []
  },
  {
   "cell_type": "raw",
   "metadata": {},
   "source": [
    "7) Is the model using all the variables (x1 to x10) better than the one using x2 only ?"
   ]
  },
  {
   "cell_type": "code",
   "execution_count": null,
   "metadata": {},
   "outputs": [],
   "source": []
  },
  {
   "cell_type": "raw",
   "metadata": {},
   "source": [
    "8) Is the model using variables x2, x4, x8, x10 better than the one using all the variables ?"
   ]
  },
  {
   "cell_type": "code",
   "execution_count": null,
   "metadata": {},
   "outputs": [],
   "source": []
  },
  {
   "cell_type": "raw",
   "metadata": {},
   "source": [
    "The train/test split procedure is one way to estimate the generalization error of a regression model. One of its main drawback is that it is not very stable as it is really dependent on the random split. Two different splits might give very different estimations of the generalization error.\n",
    "A more stable way to estimate the generalization error is the K-fold cross validation procedure as explained in the CM. You will implement this a bit later during next TP."
   ]
  }
 ],
 "metadata": {
  "kernelspec": {
   "display_name": "base",
   "language": "python",
   "name": "python3"
  },
  "language_info": {
   "codemirror_mode": {
    "name": "ipython",
    "version": 3
   },
   "file_extension": ".py",
   "mimetype": "text/x-python",
   "name": "python",
   "nbconvert_exporter": "python",
   "pygments_lexer": "ipython3",
   "version": "3.12.7"
  }
 },
 "nbformat": 4,
 "nbformat_minor": 4
}
